{
 "cells": [
  {
   "cell_type": "code",
   "execution_count": 1,
   "id": "c257f46f",
   "metadata": {},
   "outputs": [
    {
     "name": "stdout",
     "output_type": "stream",
     "text": [
      "the average of list values is:2\n"
     ]
    }
   ],
   "source": [
    "import statistics\n",
    "li=[1,2,3,3,2,2,2,1]\n",
    "print(\"the average of list values is:\",end=\"\")\n",
    "print(statistics.mean(li))"
   ]
  },
  {
   "cell_type": "code",
   "execution_count": 17,
   "id": "7669d983",
   "metadata": {},
   "outputs": [
    {
     "name": "stdout",
     "output_type": "stream",
     "text": [
      "median of data-set 1 is 5\n",
      "median of data-set 2 is 5.9\n",
      "median of data-set 3 is 2\n",
      "median of data-set 4 is -5\n",
      "median of data-set 5 is 0.0\n"
     ]
    },
    {
     "data": {
      "text/plain": [
       "(array([0., 0., 0., 0., 0., 1., 0., 0., 0., 0.]),\n",
       " array([4.5, 4.6, 4.7, 4.8, 4.9, 5. , 5.1, 5.2, 5.3, 5.4, 5.5]),\n",
       " <BarContainer object of 10 artists>)"
      ]
     },
     "execution_count": 17,
     "metadata": {},
     "output_type": "execute_result"
    },
    {
     "data": {
      "image/png": "[encoded data removed]",
      "text/plain": [
       "<Figure size 432x288 with 1 Axes>"
      ]
     },
     "metadata": {
      "needs_background": "light"
     },
     "output_type": "display_data"
    }
   ],
   "source": [
    "from statistics import median\n",
    "from fractions import Fraction as fr\n",
    "import matplotlib.pyplot as plt\n",
    "data1=(2,3,4,5,7,9,11)\n",
    "data2=(2.4,5.1,6.7,8.9)\n",
    "data3=(fr(1,2),fr(44,12),fr(10,3),fr(2,3))\n",
    "data4=(-5,-1,-12,-19,-3)\n",
    "data5=(-1,-2,-3,-4,4,3,2,1)\n",
    "print(\"median of data-set 1 is % s\"%(median(data1)))\n",
    "print(\"median of data-set 2 is % s\"%(median(data2)))\n",
    "print(\"median of data-set 3 is % s\"%(median(data3)))\n",
    "print(\"median of data-set 4 is % s\"%(median(data4)))\n",
    "print(\"median of data-set 5 is % s\"%(median(data5)))\n",
    "plt.hist(median(data1))\n"
   ]
  },
  {
   "cell_type": "code",
   "execution_count": 18,
   "id": "0c02fe26",
   "metadata": {},
   "outputs": [
    {
     "name": "stdout",
     "output_type": "stream",
     "text": [
      "mode of data-set 1 is 5\n",
      "mode of data-set 2 is 1.3\n",
      "mode of data-set 3 is 1/2\n",
      "mode of data-set 4 is -2\n",
      "mode of data-set 5 is black\n",
      "mode of data-set 6 is 2\n"
     ]
    },
    {
     "data": {
      "text/plain": [
       "(array([0., 0., 0., 0., 0., 1., 0., 0., 0., 0.]),\n",
       " array([4.5, 4.6, 4.7, 4.8, 4.9, 5. , 5.1, 5.2, 5.3, 5.4, 5.5]),\n",
       " <BarContainer object of 10 artists>)"
      ]
     },
     "execution_count": 18,
     "metadata": {},
     "output_type": "execute_result"
    },
    {
     "data": {
      "image/png": "[encoded data removed]",
      "text/plain": [
       "<Figure size 432x288 with 1 Axes>"
      ]
     },
     "metadata": {
      "needs_background": "light"
     },
     "output_type": "display_data"
    }
   ],
   "source": [
    "from statistics import mode\n",
    "from fractions import Fraction as fr\n",
    "import matplotlib.pyplot as plt\n",
    "data1=(2,3,3,4,5,5,5,5,6,6,6,7)\n",
    "data2=(2.4,1.3,1.3,1.3,2.4,4.6)\n",
    "data3=(fr(1,2),fr(1,2),fr(10,3),fr(2,3))\n",
    "data4=(-1,-2,-2,-2,-7,-7,-9)\n",
    "data5=(\"red\",\"blue\",\"black\",\"Blue\",\"black\",\"black\",\"brown\")\n",
    "data6=(2,2,2,3,3,3)\n",
    "print(\"mode of data-set 1 is % s\"%(mode(data1)))\n",
    "print(\"mode of data-set 2 is % s\"%(mode(data2)))\n",
    "print(\"mode of data-set 3 is % s\"%(mode(data3)))\n",
    "print(\"mode of data-set 4 is % s\"%(mode(data4)))\n",
    "print(\"mode of data-set 5 is % s\"%(mode(data5)))\n",
    "print(\"mode of data-set 6 is % s\"%(mode(data6)))\n",
    "plt.hist(mode(data1))"
   ]
  },
  {
   "cell_type": "code",
   "execution_count": 29,
   "id": "0bcd561b",
   "metadata": {},
   "outputs": [
    {
     "name": "stdout",
     "output_type": "stream",
     "text": [
      "Maximum = 5, Minimum = 1, and Range = 4\n"
     ]
    },
    {
     "data": {
      "image/png": "[encoded data removed]",
      "text/plain": [
       "<Figure size 432x288 with 1 Axes>"
      ]
     },
     "metadata": {
      "needs_background": "light"
     },
     "output_type": "display_data"
    }
   ],
   "source": [
    "import matplotlib.pyplot as plt\n",
    "arr = [1, 2, 3, 4, 5]\n",
    "Maximum = max(arr)\n",
    "Minimum = min(arr)\n",
    "Range = Maximum - Minimum\n",
    "print(\"Maximum = {}, Minimum = {}, and Range = {}\".format(Maximum, Minimum, Range))\n",
    "plt.boxplot(arr)\n",
    "plt.title(\"Boxplot\")\n",
    "plt.xlabel(\"Data\")\n",
    "plt.ylabel(\"Values\")\n",
    "plt.show()\n"
   ]
  },
  {
   "cell_type": "code",
   "execution_count": 32,
   "id": "d636166c",
   "metadata": {},
   "outputs": [
    {
     "name": "stdout",
     "output_type": "stream",
     "text": [
      "Variance of sample1 is 15.80952380952381 \n",
      "Variance of sample2 is 6.7 \n",
      "Variance of sample3 is 61.125 \n",
      "Variance of sample4 is 1/45 \n",
      "Variance of sample5 is 0.17613000000000006 \n"
     ]
    },
    {
     "data": {
      "image/png": "[encoded data removed]",
      "text/plain": [
       "<Figure size 432x288 with 1 Axes>"
      ]
     },
     "metadata": {
      "needs_background": "light"
     },
     "output_type": "display_data"
    }
   ],
   "source": [
    "from statistics import variance\n",
    "from fractions import Fraction as fr\n",
    "import matplotlib.pyplot as plt\n",
    "sample1=(1,2,5,4,8,9,12)\n",
    "sample2=(-2,-4-3,-1,-5,-6)\n",
    "sample3=(-9,-1,-0,2,1,3,4,19)\n",
    "sample4=(fr(1,2),fr(2,3),fr(3,4),fr(5,6),fr(7,8))\n",
    "sample5=(1.23,1.45,2.1,2.2,1.9)\n",
    "print(\"Variance of sample1 is %s \"%(variance(sample1)))\n",
    "print(\"Variance of sample2 is %s \"%(variance(sample2)))\n",
    "print(\"Variance of sample3 is %s \"%(variance(sample3)))\n",
    "print(\"Variance of sample4 is %s \"%(variance(sample4)))\n",
    "print(\"Variance of sample5 is %s \"%(variance(sample5)))\n",
    "plt.boxplot(sample4)\n",
    "plt.title(\"Boxplot\")\n",
    "plt.xlabel(\"Data\")\n",
    "plt.ylabel(\"Values\")\n",
    "plt.show()\n"
   ]
  },
  {
   "cell_type": "code",
   "execution_count": 33,
   "id": "c39fe2ae",
   "metadata": {},
   "outputs": [
    {
     "name": "stdout",
     "output_type": "stream",
     "text": [
      "the standerd deviation of sample1 is 3.9761191895520196 \n",
      "the standerd deviation of sample2 is 2.588435821108957 \n",
      "the standerd deviation of sample3 is 7.8182478855559445 \n",
      "the standerd deviation of sample4 is 0.41967844833872525 \n"
     ]
    },
    {
     "data": {
      "image/png": "[encoded data removed]",
      "text/plain": [
       "<Figure size 432x288 with 1 Axes>"
      ]
     },
     "metadata": {
      "needs_background": "light"
     },
     "output_type": "display_data"
    }
   ],
   "source": [
    "from statistics import stdev\n",
    "from fractions import Fraction as fr\n",
    "import matplotlib.pyplot as plt\n",
    "sample1=(1,2,5,4,8,9,12)\n",
    "sample2=(-2,-4-3,-1,-5,-6)\n",
    "sample3=(-9,-1,-0,2,1,3,4,19)\n",
    "sample4=(1.23,1.45,2.1,2.2,1.9)\n",
    "print(\"the standerd deviation of sample1 is %s \"%(stdev(sample1)))\n",
    "print(\"the standerd deviation of sample2 is %s \"%(stdev(sample2)))\n",
    "print(\"the standerd deviation of sample3 is %s \"%(stdev(sample3)))\n",
    "print(\"the standerd deviation of sample4 is %s \"%(stdev(sample4)))\n",
    "plt.boxplot(sample4)\n",
    "plt.title(\"Boxplot\")\n",
    "plt.xlabel(\"Data\")\n",
    "plt.ylabel(\"Values\")\n",
    "plt.show()\n"
   ]
  },
  {
   "cell_type": "code",
   "execution_count": 35,
   "id": "37ced816",
   "metadata": {},
   "outputs": [
    {
     "data": {
      "text/plain": [
       "0      0\n",
       "1      2\n",
       "2      2\n",
       "3      2\n",
       "4      2\n",
       "5      3\n",
       "6      3\n",
       "7      6\n",
       "8      7\n",
       "9      4\n",
       "10     7\n",
       "11     6\n",
       "12     6\n",
       "13     9\n",
       "14     4\n",
       "15     5\n",
       "16    14\n",
       "17     5\n",
       "18    10\n",
       "19    11\n",
       "20    12\n",
       "dtype: int32"
      ]
     },
     "execution_count": 35,
     "metadata": {},
     "output_type": "execute_result"
    }
   ],
   "source": [
    "import numpy as np\n",
    "import pandas as pd\n",
    "import matplotlib.pyplot as plt\n",
    "x = list(range(-10, 11))\n",
    "y = [0, 2, 2, 2, 2, 3, 3, 6, 7, 4, 7, 6, 6, 9, 4, 5,14, 5, 10, 11, 12]\n",
    "x_, y_ = np.array(x), np.array(y)\n",
    "x__, y__ =pd.Series(x_), pd.Series(y_)\n",
    "x__\n",
    "y__"
   ]
  },
  {
   "cell_type": "code",
   "execution_count": 36,
   "id": "d9c4c665",
   "metadata": {},
   "outputs": [
    {
     "data": {
      "text/plain": [
       "19.049999999999997"
      ]
     },
     "execution_count": 36,
     "metadata": {},
     "output_type": "execute_result"
    }
   ],
   "source": [
    "n = len(x)\n",
    "mean_x, mean_y = sum(x) / n, sum(y) / n\n",
    "cov_xy = (sum((x[k] - mean_x) * (y[k] - mean_y) for k in range(n))/ (n - 1))\n",
    "cov_xy"
   ]
  },
  {
   "cell_type": "code",
   "execution_count": 37,
   "id": "8d307d7f",
   "metadata": {},
   "outputs": [
    {
     "data": {
      "text/plain": [
       "array([[38.5       , 19.05      ],\n",
       "       [19.05      , 13.91428571]])"
      ]
     },
     "execution_count": 37,
     "metadata": {},
     "output_type": "execute_result"
    }
   ],
   "source": [
    "cov_matrix = np.cov(x_, y_)\n",
    "cov_matrix"
   ]
  },
  {
   "cell_type": "code",
   "execution_count": 38,
   "id": "b8154427",
   "metadata": {},
   "outputs": [
    {
     "data": {
      "image/png": "[encoded data removed]",
      "text/plain": [
       "<Figure size 432x288 with 1 Axes>"
      ]
     },
     "metadata": {
      "needs_background": "light"
     },
     "output_type": "display_data"
    }
   ],
   "source": [
    "plt.boxplot(cov_matrix)\n",
    "plt.title(\"Boxplot\")\n",
    "plt.xlabel(\"Data\")\n",
    "plt.ylabel(\"Values\")\n",
    "plt.show()\n"
   ]
  },
  {
   "cell_type": "code",
   "execution_count": null,
   "id": "72e9715c",
   "metadata": {},
   "outputs": [],
   "source": []
  },
  {
   "cell_type": "code",
   "execution_count": null,
   "id": "3b6ebbee",
   "metadata": {},
   "outputs": [],
   "source": []
  }
 ],
 "metadata": {
  "kernelspec": {
   "display_name": "Python 3 (ipykernel)",
   "language": "python",
   "name": "python3"
  },
  "language_info": {
   "codemirror_mode": {
    "name": "ipython",
    "version": 3
   },
   "file_extension": ".py",
   "mimetype": "text/x-python",
   "name": "python",
   "nbconvert_exporter": "python",
   "pygments_lexer": "ipython3",
   "version": "3.9.7"
  }
 },
 "nbformat": 4,
 "nbformat_minor": 5
}
