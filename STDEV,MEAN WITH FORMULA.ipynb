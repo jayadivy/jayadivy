{
 "cells": [
  {
   "cell_type": "code",
   "execution_count": 1,
   "id": "3a6e6c2b",
   "metadata": {},
   "outputs": [],
   "source": [
    " def my_mean(sample):\n",
    "    return sum(sample) / len(sample)"
   ]
  },
  {
   "cell_type": "code",
   "execution_count": 2,
   "id": "145a2f02",
   "metadata": {},
   "outputs": [
    {
     "data": {
      "text/plain": [
       "5.2"
      ]
     },
     "execution_count": 2,
     "metadata": {},
     "output_type": "execute_result"
    }
   ],
   "source": [
    "my_mean([4, 8, 6, 5, 3, 2, 8, 9, 2, 5])\n"
   ]
  },
  {
   "cell_type": "code",
   "execution_count": 50,
   "id": "c8d7aad0",
   "metadata": {},
   "outputs": [],
   "source": [
    "def my_median(sample):\n",
    "    n = len(sample)\n",
    "    index = n // 2\n",
    "# Sample with an odd number of observations\n",
    "    if n % 2:\n",
    "        return sorted(sample)[index]\n",
    " # Sample with an even number of observations\n",
    "    return sum(sorted(sample)[index - 1:index + 1]) / 2"
   ]
  },
  {
   "cell_type": "code",
   "execution_count": 51,
   "id": "612c3a51",
   "metadata": {},
   "outputs": [
    {
     "data": {
      "text/plain": [
       "0.0"
      ]
     },
     "execution_count": 51,
     "metadata": {},
     "output_type": "execute_result"
    }
   ],
   "source": [
    "my_median([3, 5, 1, 4, 2,6])"
   ]
  },
  {
   "cell_type": "code",
   "execution_count": 10,
   "id": "3e6f5329",
   "metadata": {},
   "outputs": [
    {
     "data": {
      "text/plain": [
       "5"
      ]
     },
     "execution_count": 10,
     "metadata": {},
     "output_type": "execute_result"
    }
   ],
   "source": [
    "my_median([3, 5, 1, 4, 2,6,7,8,9])"
   ]
  },
  {
   "cell_type": "code",
   "execution_count": 34,
   "id": "716f5a66",
   "metadata": {},
   "outputs": [
    {
     "data": {
      "text/plain": [
       "1.479019945774904"
      ]
     },
     "execution_count": 34,
     "metadata": {},
     "output_type": "execute_result"
    }
   ],
   "source": [
    "import math\n",
    " # We relay on our previous implementation for the variance\n",
    "def variance(data, ddof=0):\n",
    "    n = len(data)\n",
    "    mean = sum(data) / n\n",
    "    return sum((x - mean) ** 2 for x in data) / (n - ddof)\n",
    "\n",
    "def stdev(data):\n",
    "    var = variance(data)\n",
    "    std_dev = math.sqrt(var)\n",
    "    return std_dev\n",
    "    #return variance\n",
    "    return variance ** 0.5\n",
    "\n",
    "stdev([4, 8, 6, 5])\n",
    "#variance([4, 8, 6, 5, 3, 2, 8, 9, 2, 5])"
   ]
  },
  {
   "cell_type": "code",
   "execution_count": 35,
   "id": "1a335e3d",
   "metadata": {},
   "outputs": [
    {
     "data": {
      "text/plain": [
       "2.1875"
      ]
     },
     "execution_count": 35,
     "metadata": {},
     "output_type": "execute_result"
    }
   ],
   "source": [
    "variance([4, 8, 6, 5])"
   ]
  },
  {
   "cell_type": "code",
   "execution_count": null,
   "id": "b8c88515",
   "metadata": {},
   "outputs": [],
   "source": [
    "modulus\n",
    "\n",
    "The modulus-function computes the remainder of a division, which is the \"leftover\" of an integral division.\n",
    "\n",
    "floor\n",
    "\n",
    "The floor-function provides the lower-bound of an integral division. The upper-bound is computed by the ceil function. (Basically speaking, the floor-function cuts off all decimals).\n",
    "\n",
    "a=5\n",
    "b=2\n",
    "print(a%b) # Prints 1 as leftover\n",
    "print(a//b) # Prints 2, since 5/2=2.5 and the decimal is cut off\n",
    "print(a - (a//b)*b) # Prints 1, this is the modulo, calculated by the floor function"
   ]
  }
 ],
 "metadata": {
  "kernelspec": {
   "display_name": "Python 3 (ipykernel)",
   "language": "python",
   "name": "python3"
  },
  "language_info": {
   "codemirror_mode": {
    "name": "ipython",
    "version": 3
   },
   "file_extension": ".py",
   "mimetype": "text/x-python",
   "name": "python",
   "nbconvert_exporter": "python",
   "pygments_lexer": "ipython3",
   "version": "3.9.7"
  }
 },
 "nbformat": 4,
 "nbformat_minor": 5
}
