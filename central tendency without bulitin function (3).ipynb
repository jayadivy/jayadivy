{
 "cells": [
  {
   "cell_type": "code",
   "execution_count": 1,
   "id": "a35ff916",
   "metadata": {},
   "outputs": [
    {
     "name": "stdout",
     "output_type": "stream",
     "text": [
      "The mean or average of all these numbers ( [2, 3, 5, 7, 8] ) is 5.0\n"
     ]
    }
   ],
   "source": [
    "numb = [2, 3, 5, 7, 8]\n",
    "no = len(numb)\n",
    "sum = sum(numb)\n",
    "mean = sum / no\n",
    "print(\"The mean or average of all these numbers (\", numb, \") is\", str(mean))"
   ]
  },
  {
   "cell_type": "code",
   "execution_count": 2,
   "id": "3074c91e",
   "metadata": {},
   "outputs": [
    {
     "name": "stdout",
     "output_type": "stream",
     "text": [
      "The median of the given numbers  ( [2, 4, 5, 8, 9] ) is 5\n"
     ]
    }
   ],
   "source": [
    "numb = [2, 4, 5, 8, 9]\n",
    "no = len(numb)\n",
    "numb.sort()\n",
    "if no % 2 == 0:\n",
    "    median1 = numb[no//2]\n",
    "    median2 = numb[no//2 - 1]\n",
    "    median = (median1 + median2)/2\n",
    "else:\n",
    "    median = numb[no//2]\n",
    "print(\"The median of the given numbers  (\", numb, \") is\", str(median))"
   ]
  },
  {
   "cell_type": "code",
   "execution_count": 3,
   "id": "fd875598",
   "metadata": {},
   "outputs": [
    {
     "name": "stdout",
     "output_type": "stream",
     "text": [
      "The mode of a number is / are: 2\n"
     ]
    }
   ],
   "source": [
    "from collections import Counter\n",
    "numb = [2, 3, 4, 5, 7, 2]\n",
    "no = len(numb)\n",
    "val = Counter(numb)\n",
    "findMode = dict(val)\n",
    "mode = [i for i, v in findMode.items() if v == max(list(val.values()))]  \n",
    "if len(mode) == no:\n",
    "    findMode = \"The group of number do not have any mode\"\n",
    "else:\n",
    "    findMode = \"The mode of a number is / are: \" + ', '.join(map(str, mode))\n",
    "print(findMode)"
   ]
  },
  {
   "cell_type": "code",
   "execution_count": 4,
   "id": "77a44bf6",
   "metadata": {},
   "outputs": [
    {
     "name": "stdout",
     "output_type": "stream",
     "text": [
      "Mean: 3.375\n",
      "Median: 3.5\n",
      "Mode: [5]\n"
     ]
    }
   ],
   "source": [
    "def calculate_mean(data):\n",
    "    total = 0\n",
    "    count = 0\n",
    "    for value in data:\n",
    "        total += value\n",
    "        count += 1\n",
    "    return total / count\n",
    "\n",
    "def calculate_median(data):\n",
    "    sorted_data = sorted(data)\n",
    "    n = len(sorted_data)\n",
    "    if n % 2 == 0:\n",
    "        mid1 = n // 2\n",
    "        mid2 = mid1 - 1\n",
    "        median = (sorted_data[mid1] + sorted_data[mid2]) / 2\n",
    "    else:\n",
    "        median = sorted_data[n // 2]\n",
    "    return median\n",
    "\n",
    "def calculate_mode(data):\n",
    "    counts = {}\n",
    "    for value in data:\n",
    "        if value in counts:\n",
    "            counts[value] += 1\n",
    "        else:\n",
    "            counts[value] = 1\n",
    "    max_count = max(counts.values())\n",
    "    mode = [value for value, count in counts.items() if count == max_count]\n",
    "    return mode\n",
    "\n",
    "# Example usage:\n",
    "data = [1, 2, 2, 3, 4, 5, 5, 5]\n",
    "mean = calculate_mean(data)\n",
    "median = calculate_median(data)\n",
    "mode = calculate_mode(data)\n",
    "\n",
    "print(\"Mean:\", mean)\n",
    "print(\"Median:\", median)\n",
    "print(\"Mode:\", mode)\n"
   ]
  },
  {
   "cell_type": "code",
   "execution_count": 5,
   "id": "584a2277",
   "metadata": {},
   "outputs": [
    {
     "name": "stdout",
     "output_type": "stream",
     "text": [
      "Maximum=5 ,Minimum=1 and Range=4\n"
     ]
    }
   ],
   "source": [
    "#Range of the function\n",
    "\n",
    "arr=[1,2,3,4,5]\n",
    "Maximum=max(arr)\n",
    "Minimum=min(arr)\n",
    "Range=Maximum-Minimum\n",
    "print(\"Maximum={} ,Minimum={} and Range={}\".format(Maximum,Minimum,Range))"
   ]
  },
  {
   "cell_type": "code",
   "execution_count": null,
   "id": "ba0c784c",
   "metadata": {},
   "outputs": [],
   "source": [
    "import numpy as np\n",
    "\n",
    "n= int(input(\"Please enter an number of integer: \"))\n",
    "mylist=[]\n",
    "mylist=list(map (int,input(\"enter the values:\").split()))\n",
    "n=len(mylist)\n",
    "Maximum=max(mylist)\n",
    "Minimum=min(mylist)\n",
    "Range=Maximum-Minimum\n",
    "print(\"Maximum={} ,Minimum={} and Range={}\".format(Maximum,Minimum,Range))"
   ]
  },
  {
   "cell_type": "code",
   "execution_count": null,
   "id": "ebf99988",
   "metadata": {},
   "outputs": [],
   "source": []
  }
 ],
 "metadata": {
  "kernelspec": {
   "display_name": "Python 3 (ipykernel)",
   "language": "python",
   "name": "python3"
  },
  "language_info": {
   "codemirror_mode": {
    "name": "ipython",
    "version": 3
   },
   "file_extension": ".py",
   "mimetype": "text/x-python",
   "name": "python",
   "nbconvert_exporter": "python",
   "pygments_lexer": "ipython3",
   "version": "3.9.7"
  }
 },
 "nbformat": 4,
 "nbformat_minor": 5
}
