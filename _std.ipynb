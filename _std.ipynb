{
 "cells": [
  {
   "cell_type": "code",
   "execution_count": 11,
   "id": "2e953a14",
   "metadata": {},
   "outputs": [
    {
     "name": "stdout",
     "output_type": "stream",
     "text": [
      "variance 0.03687499999999999\n",
      "standerd deviation 0.19202864369671518\n",
      "coefficientofvariance 0.45183210281580044\n"
     ]
    }
   ],
   "source": [
    "#finding variance standerd deviation coefficient of variance without ud=sinf bulit in function\n",
    "\n",
    "import math\n",
    "\n",
    "xs = [0.5,0.7,0.3,0.2]     # values (must be floats!)\n",
    "mean = sum(xs) / len(xs)   # mean\n",
    "var  = sum(pow(x-mean,2) for x in xs) / len(xs)  # variance\n",
    "std  = math.sqrt(var)# standard deviation\n",
    "coefficientofvariance=(std/mean)\n",
    "print(\"variance\",var)\n",
    "print(\"standerd deviation\",std)\n",
    "print(\"coefficientofvariance\",coefficientofvariance)\n"
   ]
  },
  {
   "cell_type": "code",
   "execution_count": 12,
   "id": "febe6e64",
   "metadata": {},
   "outputs": [
    {
     "name": "stdout",
     "output_type": "stream",
     "text": [
      "-0.05805000000000284\n"
     ]
    }
   ],
   "source": [
    "# Python3 Program to find\n",
    "# covariance of two set.\n",
    "import math\n",
    " \n",
    "# Function to find mean.\n",
    " \n",
    "def mean(arr, n):\n",
    " \n",
    "    sum = 0\n",
    "    for i in range(0, n):\n",
    "        sum = sum + arr[i]\n",
    " \n",
    "    return sum / n\n",
    " \n",
    "# Function to find covariance.\n",
    " \n",
    "def covariance(arr1, arr2, n):\n",
    " \n",
    "    sum = 0\n",
    "    mean_arr1 = mean(arr1, n)\n",
    "    mean_arr2 = mean(arr2, n)\n",
    "    for i in range(0, n):\n",
    "        sum = (sum + (arr1[i] - mean_arr1) * (arr2[i] - mean_arr2))\n",
    " \n",
    "    return sum / (n - 1)\n",
    " \n",
    " \n",
    " # Driver method\n",
    "arr1 = [65.21, 64.75, 65.26, 65.76, 65.96]\n",
    "n = len(arr1)\n",
    "arr2 = [67.25, 66.39, 66.12, 65.70, 66.64]\n",
    "m = len(arr2)\n",
    " \n",
    "if (m == n):\n",
    "    print(covariance(arr1, arr2, m))\n",
    " \n"
   ]
  },
  {
   "cell_type": "code",
   "execution_count": 13,
   "id": "989054f8",
   "metadata": {},
   "outputs": [
    {
     "name": "stdout",
     "output_type": "stream",
     "text": [
      "Maximum=5 ,Minimum=1 and Range=4\n"
     ]
    }
   ],
   "source": [
    "#range finding without using function\n",
    "\n",
    "arr=[1,2,3,4,5]\n",
    "Maximum=max(arr)\n",
    "Minimum=min(arr)\n",
    "Range=Maximum-Minimum\n",
    "print(\"Maximum={} ,Minimum={} and Range={}\".format(Maximum,Minimum,Range))"
   ]
  },
  {
   "cell_type": "code",
   "execution_count": 14,
   "id": "35d02017",
   "metadata": {},
   "outputs": [
    {
     "name": "stdout",
     "output_type": "stream",
     "text": [
      "Maximum=5 ,Minimum=1 and Range=4\n",
      "coefficient of range 0.6666666666666666\n"
     ]
    }
   ],
   "source": [
    "#coefficient of range \n",
    "\n",
    "arr=[1,2,3,4,5]\n",
    "Maximum=max(arr)\n",
    "Minimum=min(arr)\n",
    "Range=Maximum-Minimum\n",
    "coeffOfRange = Range/ (Maximum + Minimum)\n",
    "print(\"Maximum={} ,Minimum={} and Range={}\".format(Maximum,Minimum,Range))\n",
    "print(\"coefficient of range\",coeffOfRange )"
   ]
  },
  {
   "cell_type": "code",
   "execution_count": 10,
   "id": "3364a73f",
   "metadata": {},
   "outputs": [
    {
     "name": "stdout",
     "output_type": "stream",
     "text": [
      "[4, 4, 4]\n"
     ]
    }
   ],
   "source": [
    "\n",
    "number_list = [1,2, 3, 4, 4,4,4, 5, 6, 7, 8,]\n",
    "uniq_values = []\n",
    "mode_values = []\n",
    "for i in number_list:\n",
    "    if i not in uniq_values:\n",
    "        uniq_values.append(i)\n",
    "    else:\n",
    "        mode_values.append(i)\n",
    "print(mode_values)"
   ]
  },
  {
   "cell_type": "code",
   "execution_count": null,
   "id": "e66e3314",
   "metadata": {},
   "outputs": [],
   "source": []
  }
 ],
 "metadata": {
  "kernelspec": {
   "display_name": "Python 3 (ipykernel)",
   "language": "python",
   "name": "python3"
  },
  "language_info": {
   "codemirror_mode": {
    "name": "ipython",
    "version": 3
   },
   "file_extension": ".py",
   "mimetype": "text/x-python",
   "name": "python",
   "nbconvert_exporter": "python",
   "pygments_lexer": "ipython3",
   "version": "3.9.7"
  }
 },
 "nbformat": 4,
 "nbformat_minor": 5
}
