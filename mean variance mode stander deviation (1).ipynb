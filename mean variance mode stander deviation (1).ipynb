{
 "cells": [
  {
   "cell_type": "code",
   "execution_count": 1,
   "id": "513cf342",
   "metadata": {},
   "outputs": [
    {
     "name": "stdout",
     "output_type": "stream",
     "text": [
      "the average of list values is:2\n"
     ]
    }
   ],
   "source": [
    "import statistics\n",
    "li=[1,2,3,3,2,2,2,1]\n",
    "print(\"the average of list values is:\",end=\"\")\n",
    "print(statistics.mean(li))"
   ]
  },
  {
   "cell_type": "code",
   "execution_count": 5,
   "id": "fe2a1399",
   "metadata": {},
   "outputs": [
    {
     "name": "stdout",
     "output_type": "stream",
     "text": [
      "median of data-set 1 is 5\n",
      "median of data-set 2 is 5.9\n",
      "median of data-set 3 is 2\n",
      "median of data-set 4 is -5\n",
      "median of data-set 5 is 0.0\n"
     ]
    }
   ],
   "source": [
    "from statistics import median\n",
    "from fractions import Fraction as fr\n",
    "data1=(2,3,4,5,7,9,11)\n",
    "data2=(2.4,5.1,6.7,8.9)\n",
    "data3=(fr(1,2),fr(44,12),fr(10,3),fr(2,3))\n",
    "data4=(-5,-1,-12,-19,-3)\n",
    "data5=(-1,-2,-3,-4,4,3,2,1)\n",
    "print(\"median of data-set 1 is % s\"%(median(data1)))\n",
    "print(\"median of data-set 2 is % s\"%(median(data2)))\n",
    "print(\"median of data-set 3 is % s\"%(median(data3)))\n",
    "print(\"median of data-set 4 is % s\"%(median(data4)))\n",
    "print(\"median of data-set 5 is % s\"%(median(data5)))"
   ]
  },
  {
   "cell_type": "code",
   "execution_count": 21,
   "id": "37fb0632",
   "metadata": {},
   "outputs": [
    {
     "name": "stdout",
     "output_type": "stream",
     "text": [
      "mode of data-set 1 is 5\n",
      "mode of data-set 2 is 1.3\n",
      "mode of data-set 3 is 1/2\n",
      "mode of data-set 4 is -2\n",
      "mode of data-set 5 is black\n",
      "mode of data-set 6 is 2\n"
     ]
    }
   ],
   "source": [
    "from statistics import mode\n",
    "from fractions import Fraction as fr\n",
    "data1=(2,3,3,4,5,5,5,5,6,6,6,7)\n",
    "data2=(2.4,1.3,1.3,1.3,2.4,4.6)\n",
    "data3=(fr(1,2),fr(1,2),fr(10,3),fr(2,3))\n",
    "data4=(-1,-2,-2,-2,-7,-7,-9)\n",
    "data5=(\"red\",\"blue\",\"black\",\"Blue\",\"black\",\"black\",\"brown\")\n",
    "data6=(2,2,2,3,3,3)\n",
    "print(\"mode of data-set 1 is % s\"%(mode(data1)))\n",
    "print(\"mode of data-set 2 is % s\"%(mode(data2)))\n",
    "print(\"mode of data-set 3 is % s\"%(mode(data3)))\n",
    "print(\"mode of data-set 4 is % s\"%(mode(data4)))\n",
    "print(\"mode of data-set 5 is % s\"%(mode(data5)))\n",
    "print(\"mode of data-set 6 is % s\"%(mode(data6)))\n"
   ]
  },
  {
   "cell_type": "code",
   "execution_count": 9,
   "id": "589f5fee",
   "metadata": {},
   "outputs": [
    {
     "name": "stdout",
     "output_type": "stream",
     "text": [
      "Maximum=5 ,Minimum=1 and Range=4\n"
     ]
    }
   ],
   "source": [
    "arr=[1,2,3,4,5]\n",
    "Maximum=max(arr)\n",
    "Minimum=min(arr)\n",
    "Range=Maximum-Minimum\n",
    "print(\"Maximum={} ,Minimum={} and Range={}\".format(Maximum,Minimum,Range))"
   ]
  },
  {
   "cell_type": "code",
   "execution_count": 18,
   "id": "b2ee6d02",
   "metadata": {},
   "outputs": [
    {
     "name": "stdout",
     "output_type": "stream",
     "text": [
      "Variance of sample1 is 15.80952380952381 \n",
      "Variance of sample2 is 6.7 \n",
      "Variance of sample3 is 61.125 \n",
      "Variance of sample4 is 1/45 \n",
      "Variance of sample5 is 0.17613000000000006 \n"
     ]
    }
   ],
   "source": [
    "from statistics import variance\n",
    "from fractions import Fraction as fr\n",
    "sample1=(1,2,5,4,8,9,12)\n",
    "sample2=(-2,-4-3,-1,-5,-6)\n",
    "sample3=(-9,-1,-0,2,1,3,4,19)\n",
    "sample4=(fr(1,2),fr(2,3),fr(3,4),fr(5,6),fr(7,8))\n",
    "sample5=(1.23,1.45,2.1,2.2,1.9)\n",
    "print(\"Variance of sample1 is %s \"%(variance(sample1)))\n",
    "print(\"Variance of sample2 is %s \"%(variance(sample2)))\n",
    "print(\"Variance of sample3 is %s \"%(variance(sample3)))\n",
    "print(\"Variance of sample4 is %s \"%(variance(sample4)))\n",
    "print(\"Variance of sample5 is %s \"%(variance(sample5)))"
   ]
  },
  {
   "cell_type": "code",
   "execution_count": 20,
   "id": "d5a86ff3",
   "metadata": {},
   "outputs": [
    {
     "name": "stdout",
     "output_type": "stream",
     "text": [
      "the standerd deviation of sample1 is 3.9761191895520196 \n",
      "the standerd deviation of sample2 is 2.588435821108957 \n",
      "the standerd deviation of sample3 is 7.8182478855559445 \n",
      "the standerd deviation of sample4 is 0.41967844833872525 \n"
     ]
    }
   ],
   "source": [
    "from statistics import stdev\n",
    "from fractions import Fraction as fr\n",
    "sample1=(1,2,5,4,8,9,12)\n",
    "sample2=(-2,-4-3,-1,-5,-6)\n",
    "sample3=(-9,-1,-0,2,1,3,4,19)\n",
    "sample4=(1.23,1.45,2.1,2.2,1.9)\n",
    "print(\"the standerd deviation of sample1 is %s \"%(stdev(sample1)))\n",
    "print(\"the standerd deviation of sample2 is %s \"%(stdev(sample2)))\n",
    "print(\"the standerd deviation of sample3 is %s \"%(stdev(sample3)))\n",
    "print(\"the standerd deviation of sample4 is %s \"%(stdev(sample4)))\n",
    "\n"
   ]
  },
  {
   "cell_type": "code",
   "execution_count": 15,
   "id": "49ec51c4",
   "metadata": {
    "scrolled": true
   },
   "outputs": [
    {
     "data": {
      "text/plain": [
       "DescribeResult(nobs=5, minmax=(1, 5), mean=3.0, variance=2.5, skewness=0.0, kurtosis=-1.2000000000000004)"
      ]
     },
     "execution_count": 15,
     "metadata": {},
     "output_type": "execute_result"
    }
   ],
   "source": [
    "from scipy import stats\n",
    "y=[1,2,3,4,5]\n",
    "result = scipy.stats.describe(y, ddof=1, bias=False)\n",
    "result\n"
   ]
  },
  {
   "cell_type": "code",
   "execution_count": 23,
   "id": "367f9112",
   "metadata": {},
   "outputs": [
    {
     "data": {
      "text/plain": [
       "5"
      ]
     },
     "execution_count": 23,
     "metadata": {},
     "output_type": "execute_result"
    }
   ],
   "source": [
    "result.nobs"
   ]
  },
  {
   "cell_type": "code",
   "execution_count": 24,
   "id": "638bb206",
   "metadata": {},
   "outputs": [
    {
     "data": {
      "text/plain": [
       "1"
      ]
     },
     "execution_count": 24,
     "metadata": {},
     "output_type": "execute_result"
    }
   ],
   "source": [
    "result.minmax[0] # Min"
   ]
  },
  {
   "cell_type": "code",
   "execution_count": 25,
   "id": "cbd50317",
   "metadata": {},
   "outputs": [
    {
     "data": {
      "text/plain": [
       "5"
      ]
     },
     "execution_count": 25,
     "metadata": {},
     "output_type": "execute_result"
    }
   ],
   "source": [
    "result.minmax[1] # Max"
   ]
  },
  {
   "cell_type": "code",
   "execution_count": 26,
   "id": "b53276f0",
   "metadata": {},
   "outputs": [
    {
     "data": {
      "text/plain": [
       "3.0"
      ]
     },
     "execution_count": 26,
     "metadata": {},
     "output_type": "execute_result"
    }
   ],
   "source": [
    " result.mean"
   ]
  },
  {
   "cell_type": "code",
   "execution_count": 27,
   "id": "c66a518b",
   "metadata": {},
   "outputs": [
    {
     "data": {
      "text/plain": [
       "2.5"
      ]
     },
     "execution_count": 27,
     "metadata": {},
     "output_type": "execute_result"
    }
   ],
   "source": [
    "result.variance"
   ]
  },
  {
   "cell_type": "code",
   "execution_count": 28,
   "id": "22249e13",
   "metadata": {},
   "outputs": [
    {
     "data": {
      "text/plain": [
       "0.0"
      ]
     },
     "execution_count": 28,
     "metadata": {},
     "output_type": "execute_result"
    }
   ],
   "source": [
    "result.skewness"
   ]
  },
  {
   "cell_type": "code",
   "execution_count": 29,
   "id": "59e2be16",
   "metadata": {},
   "outputs": [
    {
     "data": {
      "text/plain": [
       "-1.2000000000000004"
      ]
     },
     "execution_count": 29,
     "metadata": {},
     "output_type": "execute_result"
    }
   ],
   "source": [
    "result.kurtosis"
   ]
  },
  {
   "cell_type": "code",
   "execution_count": 40,
   "id": "569fb725",
   "metadata": {},
   "outputs": [
    {
     "data": {
      "text/html": [
       "<div>\n",
       "<style scoped>\n",
       "    .dataframe tbody tr th:only-of-type {\n",
       "        vertical-align: middle;\n",
       "    }\n",
       "\n",
       "    .dataframe tbody tr th {\n",
       "        vertical-align: top;\n",
       "    }\n",
       "\n",
       "    .dataframe thead th {\n",
       "        text-align: right;\n",
       "    }\n",
       "</style>\n",
       "<table border=\"1\" class=\"dataframe\">\n",
       "  <thead>\n",
       "    <tr style=\"text-align: right;\">\n",
       "      <th></th>\n",
       "      <th>0</th>\n",
       "    </tr>\n",
       "  </thead>\n",
       "  <tbody>\n",
       "    <tr>\n",
       "      <th>count</th>\n",
       "      <td>5.000000</td>\n",
       "    </tr>\n",
       "    <tr>\n",
       "      <th>mean</th>\n",
       "      <td>3.000000</td>\n",
       "    </tr>\n",
       "    <tr>\n",
       "      <th>std</th>\n",
       "      <td>1.581139</td>\n",
       "    </tr>\n",
       "    <tr>\n",
       "      <th>min</th>\n",
       "      <td>1.000000</td>\n",
       "    </tr>\n",
       "    <tr>\n",
       "      <th>25%</th>\n",
       "      <td>2.000000</td>\n",
       "    </tr>\n",
       "    <tr>\n",
       "      <th>50%</th>\n",
       "      <td>3.000000</td>\n",
       "    </tr>\n",
       "    <tr>\n",
       "      <th>75%</th>\n",
       "      <td>4.000000</td>\n",
       "    </tr>\n",
       "    <tr>\n",
       "      <th>max</th>\n",
       "      <td>5.000000</td>\n",
       "    </tr>\n",
       "  </tbody>\n",
       "</table>\n",
       "</div>"
      ],
      "text/plain": [
       "              0\n",
       "count  5.000000\n",
       "mean   3.000000\n",
       "std    1.581139\n",
       "min    1.000000\n",
       "25%    2.000000\n",
       "50%    3.000000\n",
       "75%    4.000000\n",
       "max    5.000000"
      ]
     },
     "execution_count": 40,
     "metadata": {},
     "output_type": "execute_result"
    }
   ],
   "source": [
    "import pandas as pd\n",
    "z=[1,2,3,4,5]\n",
    "df=pd.DataFrame(z)\n",
    "result = df.describe()\n",
    "result\n"
   ]
  },
  {
   "cell_type": "code",
   "execution_count": 42,
   "id": "4d52366e",
   "metadata": {},
   "outputs": [
    {
     "data": {
      "text/plain": [
       "0    3.0\n",
       "Name: mean, dtype: float64"
      ]
     },
     "execution_count": 42,
     "metadata": {},
     "output_type": "execute_result"
    }
   ],
   "source": [
    "result.loc['mean']"
   ]
  },
  {
   "cell_type": "code",
   "execution_count": 43,
   "id": "57957126",
   "metadata": {},
   "outputs": [
    {
     "data": {
      "text/plain": [
       "0    1.581139\n",
       "Name: std, dtype: float64"
      ]
     },
     "execution_count": 43,
     "metadata": {},
     "output_type": "execute_result"
    }
   ],
   "source": [
    "result.loc['std']"
   ]
  },
  {
   "cell_type": "code",
   "execution_count": 44,
   "id": "c0937805",
   "metadata": {},
   "outputs": [
    {
     "data": {
      "text/plain": [
       "0    1.0\n",
       "Name: min, dtype: float64"
      ]
     },
     "execution_count": 44,
     "metadata": {},
     "output_type": "execute_result"
    }
   ],
   "source": [
    "result.loc['min']"
   ]
  },
  {
   "cell_type": "code",
   "execution_count": 45,
   "id": "d484a8cc",
   "metadata": {},
   "outputs": [
    {
     "data": {
      "text/plain": [
       "0    5.0\n",
       "Name: max, dtype: float64"
      ]
     },
     "execution_count": 45,
     "metadata": {},
     "output_type": "execute_result"
    }
   ],
   "source": [
    "result.loc['max']"
   ]
  },
  {
   "cell_type": "code",
   "execution_count": 46,
   "id": "6eead1b6",
   "metadata": {},
   "outputs": [
    {
     "data": {
      "text/plain": [
       "0    2.0\n",
       "Name: 25%, dtype: float64"
      ]
     },
     "execution_count": 46,
     "metadata": {},
     "output_type": "execute_result"
    }
   ],
   "source": [
    "result.loc['25%']"
   ]
  },
  {
   "cell_type": "code",
   "execution_count": 47,
   "id": "86e8f163",
   "metadata": {},
   "outputs": [
    {
     "data": {
      "text/plain": [
       "0    3.0\n",
       "Name: 50%, dtype: float64"
      ]
     },
     "execution_count": 47,
     "metadata": {},
     "output_type": "execute_result"
    }
   ],
   "source": [
    "result.loc['50%']"
   ]
  },
  {
   "cell_type": "code",
   "execution_count": 48,
   "id": "00e4ca86",
   "metadata": {},
   "outputs": [
    {
     "data": {
      "text/plain": [
       "0    4.0\n",
       "Name: 75%, dtype: float64"
      ]
     },
     "execution_count": 48,
     "metadata": {},
     "output_type": "execute_result"
    }
   ],
   "source": [
    "result.loc['75%']"
   ]
  },
  {
   "cell_type": "code",
   "execution_count": 49,
   "id": "1e083ba3",
   "metadata": {},
   "outputs": [
    {
     "data": {
      "text/plain": [
       "0    5.0\n",
       "Name: max, dtype: float64"
      ]
     },
     "execution_count": 49,
     "metadata": {},
     "output_type": "execute_result"
    }
   ],
   "source": [
    "result.loc['max']"
   ]
  },
  {
   "cell_type": "code",
   "execution_count": 69,
   "id": "71ab9b73",
   "metadata": {},
   "outputs": [
    {
     "data": {
      "text/plain": [
       "0      0\n",
       "1      2\n",
       "2      2\n",
       "3      2\n",
       "4      2\n",
       "5      3\n",
       "6      3\n",
       "7      6\n",
       "8      7\n",
       "9      4\n",
       "10     7\n",
       "11     6\n",
       "12     6\n",
       "13     9\n",
       "14     4\n",
       "15     5\n",
       "16    14\n",
       "17     5\n",
       "18    10\n",
       "19    11\n",
       "20    12\n",
       "dtype: int32"
      ]
     },
     "execution_count": 69,
     "metadata": {},
     "output_type": "execute_result"
    }
   ],
   "source": [
    "import numpy as np\n",
    "import pandas as pd\n",
    "x = list(range(-10, 11))\n",
    "y = [0, 2, 2, 2, 2, 3, 3, 6, 7, 4, 7, 6, 6, 9, 4, 5,14, 5, 10, 11, 12]\n",
    "x_, y_ = np.array(x), np.array(y)\n",
    "x__, y__ =pd.Series(x_), pd.Series(y_)\n",
    "x__\n",
    "y__"
   ]
  },
  {
   "cell_type": "code",
   "execution_count": 69,
   "id": "8b0457d9",
   "metadata": {},
   "outputs": [
    {
     "data": {
      "text/plain": [
       "0      0\n",
       "1      2\n",
       "2      2\n",
       "3      2\n",
       "4      2\n",
       "5      3\n",
       "6      3\n",
       "7      6\n",
       "8      7\n",
       "9      4\n",
       "10     7\n",
       "11     6\n",
       "12     6\n",
       "13     9\n",
       "14     4\n",
       "15     5\n",
       "16    14\n",
       "17     5\n",
       "18    10\n",
       "19    11\n",
       "20    12\n",
       "dtype: int32"
      ]
     },
     "execution_count": 69,
     "metadata": {},
     "output_type": "execute_result"
    }
   ],
   "source": [
    "import numpy as np\n",
    "import pandas as pd\n",
    "x = list(range(-10, 11))\n",
    "y = [0, 2, 2, 2, 2, 3, 3, 6, 7, 4, 7, 6, 6, 9, 4, 5,14, 5, 10, 11, 12]\n",
    "x_, y_ = np.array(x), np.array(y)\n",
    "x__, y__ =pd.Series(x_), pd.Series(y_)\n",
    "x__\n",
    "y__"
   ]
  },
  {
   "cell_type": "code",
   "execution_count": 71,
   "id": "ead5cc57",
   "metadata": {},
   "outputs": [
    {
     "data": {
      "text/plain": [
       "19.049999999999997"
      ]
     },
     "execution_count": 71,
     "metadata": {},
     "output_type": "execute_result"
    }
   ],
   "source": [
    "n = len(x)\n",
    "mean_x, mean_y = sum(x) / n, sum(y) / n\n",
    "cov_xy = (sum((x[k] - mean_x) * (y[k] - mean_y) for k in range(n))/ (n - 1))\n",
    "cov_xy"
   ]
  },
  {
   "cell_type": "code",
   "execution_count": 73,
   "id": "06712d6a",
   "metadata": {},
   "outputs": [
    {
     "data": {
      "text/plain": [
       "array([[38.5       , 19.05      ],\n",
       "       [19.05      , 13.91428571]])"
      ]
     },
     "execution_count": 73,
     "metadata": {},
     "output_type": "execute_result"
    }
   ],
   "source": [
    "cov_matrix = np.cov(x_, y_)\n",
    "cov_matrix"
   ]
  },
  {
   "cell_type": "code",
   "execution_count": null,
   "id": "fb0b4dd6",
   "metadata": {},
   "outputs": [],
   "source": []
  }
 ],
 "metadata": {
  "kernelspec": {
   "display_name": "Python 3 (ipykernel)",
   "language": "python",
   "name": "python3"
  },
  "language_info": {
   "codemirror_mode": {
    "name": "ipython",
    "version": 3
   },
   "file_extension": ".py",
   "mimetype": "text/x-python",
   "name": "python",
   "nbconvert_exporter": "python",
   "pygments_lexer": "ipython3",
   "version": "3.9.7"
  }
 },
 "nbformat": 4,
 "nbformat_minor": 5
}
