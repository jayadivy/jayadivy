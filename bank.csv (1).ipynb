{
 "cells": [
  {
   "cell_type": "code",
   "execution_count": 23,
   "id": "5a7e2156",
   "metadata": {},
   "outputs": [],
   "source": [
    "import pandas as pd\n",
    "from pandas import DataFrame"
   ]
  },
  {
   "cell_type": "code",
   "execution_count": 24,
   "id": "93eec37f",
   "metadata": {},
   "outputs": [],
   "source": [
    "bank=pd.read_csv('bank2.csv')"
   ]
  },
  {
   "cell_type": "code",
   "execution_count": 25,
   "id": "1b3c2873",
   "metadata": {
    "scrolled": true
   },
   "outputs": [
    {
     "data": {
      "text/html": [
       "<div>\n",
       "<style scoped>\n",
       "    .dataframe tbody tr th:only-of-type {\n",
       "        vertical-align: middle;\n",
       "    }\n",
       "\n",
       "    .dataframe tbody tr th {\n",
       "        vertical-align: top;\n",
       "    }\n",
       "\n",
       "    .dataframe thead th {\n",
       "        text-align: right;\n",
       "    }\n",
       "</style>\n",
       "<table border=\"1\" class=\"dataframe\">\n",
       "  <thead>\n",
       "    <tr style=\"text-align: right;\">\n",
       "      <th></th>\n",
       "      <th>CustomerID</th>\n",
       "      <th>Name</th>\n",
       "      <th>Surname</th>\n",
       "      <th>Gender</th>\n",
       "      <th>Age</th>\n",
       "      <th>Region</th>\n",
       "      <th>JobClassification</th>\n",
       "      <th>DateJoined</th>\n",
       "      <th>Balance</th>\n",
       "    </tr>\n",
       "  </thead>\n",
       "  <tbody>\n",
       "    <tr>\n",
       "      <th>0</th>\n",
       "      <td>100000001</td>\n",
       "      <td>Simon</td>\n",
       "      <td>Walsh</td>\n",
       "      <td>Male</td>\n",
       "      <td>21</td>\n",
       "      <td>England</td>\n",
       "      <td>White Collar</td>\n",
       "      <td>05.Jan.15</td>\n",
       "      <td>113810.15</td>\n",
       "    </tr>\n",
       "    <tr>\n",
       "      <th>1</th>\n",
       "      <td>400000002</td>\n",
       "      <td>Jasmine</td>\n",
       "      <td>Miller</td>\n",
       "      <td>Female</td>\n",
       "      <td>34</td>\n",
       "      <td>Northern Ireland</td>\n",
       "      <td>Blue Collar</td>\n",
       "      <td>06.Jan.15</td>\n",
       "      <td>36919.73</td>\n",
       "    </tr>\n",
       "    <tr>\n",
       "      <th>2</th>\n",
       "      <td>100000003</td>\n",
       "      <td>Liam</td>\n",
       "      <td>Brown</td>\n",
       "      <td>Male</td>\n",
       "      <td>46</td>\n",
       "      <td>England</td>\n",
       "      <td>White Collar</td>\n",
       "      <td>07.Jan.15</td>\n",
       "      <td>101536.83</td>\n",
       "    </tr>\n",
       "    <tr>\n",
       "      <th>3</th>\n",
       "      <td>300000004</td>\n",
       "      <td>Trevor</td>\n",
       "      <td>Parr</td>\n",
       "      <td>Male</td>\n",
       "      <td>32</td>\n",
       "      <td>Wales</td>\n",
       "      <td>White Collar</td>\n",
       "      <td>08.Jan.15</td>\n",
       "      <td>1421.52</td>\n",
       "    </tr>\n",
       "    <tr>\n",
       "      <th>4</th>\n",
       "      <td>100000005</td>\n",
       "      <td>Deirdre</td>\n",
       "      <td>Pullman</td>\n",
       "      <td>Female</td>\n",
       "      <td>38</td>\n",
       "      <td>England</td>\n",
       "      <td>Blue Collar</td>\n",
       "      <td>09.Jan.15</td>\n",
       "      <td>35639.79</td>\n",
       "    </tr>\n",
       "  </tbody>\n",
       "</table>\n",
       "</div>"
      ],
      "text/plain": [
       "   CustomerID     Name  Surname  Gender  Age            Region  \\\n",
       "0   100000001    Simon    Walsh    Male   21           England   \n",
       "1   400000002  Jasmine   Miller  Female   34  Northern Ireland   \n",
       "2   100000003     Liam    Brown    Male   46           England   \n",
       "3   300000004   Trevor     Parr    Male   32             Wales   \n",
       "4   100000005  Deirdre  Pullman  Female   38           England   \n",
       "\n",
       "  JobClassification DateJoined    Balance  \n",
       "0      White Collar  05.Jan.15  113810.15  \n",
       "1       Blue Collar  06.Jan.15   36919.73  \n",
       "2      White Collar  07.Jan.15  101536.83  \n",
       "3      White Collar  08.Jan.15    1421.52  \n",
       "4       Blue Collar  09.Jan.15   35639.79  "
      ]
     },
     "execution_count": 25,
     "metadata": {},
     "output_type": "execute_result"
    }
   ],
   "source": [
    "bank.head()"
   ]
  },
  {
   "cell_type": "code",
   "execution_count": 26,
   "id": "42a25bd7",
   "metadata": {},
   "outputs": [],
   "source": [
    "dfbank=bank.to_excel('bank2.xlsx',index=False)"
   ]
  },
  {
   "cell_type": "markdown",
   "id": "c60b9fb2",
   "metadata": {},
   "source": [
    "bank2.csv()"
   ]
  },
  {
   "cell_type": "code",
   "execution_count": 29,
   "id": "8f3148de",
   "metadata": {},
   "outputs": [
    {
     "data": {
      "text/plain": [
       "NoneType"
      ]
     },
     "execution_count": 29,
     "metadata": {},
     "output_type": "execute_result"
    }
   ],
   "source": [
    "type(dfbank)"
   ]
  },
  {
   "cell_type": "code",
   "execution_count": 31,
   "id": "190ffe7a",
   "metadata": {},
   "outputs": [
    {
     "data": {
      "text/html": [
       "<div>\n",
       "<style scoped>\n",
       "    .dataframe tbody tr th:only-of-type {\n",
       "        vertical-align: middle;\n",
       "    }\n",
       "\n",
       "    .dataframe tbody tr th {\n",
       "        vertical-align: top;\n",
       "    }\n",
       "\n",
       "    .dataframe thead th {\n",
       "        text-align: right;\n",
       "    }\n",
       "</style>\n",
       "<table border=\"1\" class=\"dataframe\">\n",
       "  <thead>\n",
       "    <tr style=\"text-align: right;\">\n",
       "      <th></th>\n",
       "      <th>CustomerID</th>\n",
       "      <th>Name</th>\n",
       "      <th>Surname</th>\n",
       "      <th>Gender</th>\n",
       "      <th>Age</th>\n",
       "      <th>Region</th>\n",
       "      <th>JobClassification</th>\n",
       "      <th>DateJoined</th>\n",
       "      <th>Balance</th>\n",
       "    </tr>\n",
       "  </thead>\n",
       "  <tbody>\n",
       "    <tr>\n",
       "      <th>0</th>\n",
       "      <td>100000001</td>\n",
       "      <td>Simon</td>\n",
       "      <td>Walsh</td>\n",
       "      <td>Male</td>\n",
       "      <td>21</td>\n",
       "      <td>England</td>\n",
       "      <td>White Collar</td>\n",
       "      <td>05.Jan.15</td>\n",
       "      <td>113810.15</td>\n",
       "    </tr>\n",
       "    <tr>\n",
       "      <th>1</th>\n",
       "      <td>400000002</td>\n",
       "      <td>Jasmine</td>\n",
       "      <td>Miller</td>\n",
       "      <td>Female</td>\n",
       "      <td>34</td>\n",
       "      <td>Northern Ireland</td>\n",
       "      <td>Blue Collar</td>\n",
       "      <td>06.Jan.15</td>\n",
       "      <td>36919.73</td>\n",
       "    </tr>\n",
       "    <tr>\n",
       "      <th>2</th>\n",
       "      <td>100000003</td>\n",
       "      <td>Liam</td>\n",
       "      <td>Brown</td>\n",
       "      <td>Male</td>\n",
       "      <td>46</td>\n",
       "      <td>England</td>\n",
       "      <td>White Collar</td>\n",
       "      <td>07.Jan.15</td>\n",
       "      <td>101536.83</td>\n",
       "    </tr>\n",
       "    <tr>\n",
       "      <th>3</th>\n",
       "      <td>300000004</td>\n",
       "      <td>Trevor</td>\n",
       "      <td>Parr</td>\n",
       "      <td>Male</td>\n",
       "      <td>32</td>\n",
       "      <td>Wales</td>\n",
       "      <td>White Collar</td>\n",
       "      <td>08.Jan.15</td>\n",
       "      <td>1421.52</td>\n",
       "    </tr>\n",
       "    <tr>\n",
       "      <th>4</th>\n",
       "      <td>100000005</td>\n",
       "      <td>Deirdre</td>\n",
       "      <td>Pullman</td>\n",
       "      <td>Female</td>\n",
       "      <td>38</td>\n",
       "      <td>England</td>\n",
       "      <td>Blue Collar</td>\n",
       "      <td>09.Jan.15</td>\n",
       "      <td>35639.79</td>\n",
       "    </tr>\n",
       "  </tbody>\n",
       "</table>\n",
       "</div>"
      ],
      "text/plain": [
       "   CustomerID     Name  Surname  Gender  Age            Region  \\\n",
       "0   100000001    Simon    Walsh    Male   21           England   \n",
       "1   400000002  Jasmine   Miller  Female   34  Northern Ireland   \n",
       "2   100000003     Liam    Brown    Male   46           England   \n",
       "3   300000004   Trevor     Parr    Male   32             Wales   \n",
       "4   100000005  Deirdre  Pullman  Female   38           England   \n",
       "\n",
       "  JobClassification DateJoined    Balance  \n",
       "0      White Collar  05.Jan.15  113810.15  \n",
       "1       Blue Collar  06.Jan.15   36919.73  \n",
       "2      White Collar  07.Jan.15  101536.83  \n",
       "3      White Collar  08.Jan.15    1421.52  \n",
       "4       Blue Collar  09.Jan.15   35639.79  "
      ]
     },
     "execution_count": 31,
     "metadata": {},
     "output_type": "execute_result"
    }
   ],
   "source": [
    "dfbank=pd.read_excel('bank2.xlsx')\n",
    "dfbank.head()"
   ]
  },
  {
   "cell_type": "code",
   "execution_count": null,
   "id": "e09afcff",
   "metadata": {},
   "outputs": [],
   "source": []
  },
  {
   "cell_type": "code",
   "execution_count": 17,
   "id": "4fd877b5",
   "metadata": {},
   "outputs": [
    {
     "data": {
      "text/html": [
       "<div>\n",
       "<style scoped>\n",
       "    .dataframe tbody tr th:only-of-type {\n",
       "        vertical-align: middle;\n",
       "    }\n",
       "\n",
       "    .dataframe tbody tr th {\n",
       "        vertical-align: top;\n",
       "    }\n",
       "\n",
       "    .dataframe thead th {\n",
       "        text-align: right;\n",
       "    }\n",
       "</style>\n",
       "<table border=\"1\" class=\"dataframe\">\n",
       "  <thead>\n",
       "    <tr style=\"text-align: right;\">\n",
       "      <th></th>\n",
       "      <th>CustomerID</th>\n",
       "      <th>Age</th>\n",
       "      <th>Balance</th>\n",
       "    </tr>\n",
       "  </thead>\n",
       "  <tbody>\n",
       "    <tr>\n",
       "      <th>count</th>\n",
       "      <td>4.014000e+03</td>\n",
       "      <td>4014.000000</td>\n",
       "      <td>4014.000000</td>\n",
       "    </tr>\n",
       "    <tr>\n",
       "      <th>mean</th>\n",
       "      <td>1.696831e+08</td>\n",
       "      <td>38.611111</td>\n",
       "      <td>39766.448274</td>\n",
       "    </tr>\n",
       "    <tr>\n",
       "      <th>std</th>\n",
       "      <td>8.865374e+07</td>\n",
       "      <td>9.819121</td>\n",
       "      <td>29859.489192</td>\n",
       "    </tr>\n",
       "    <tr>\n",
       "      <th>min</th>\n",
       "      <td>1.000000e+08</td>\n",
       "      <td>15.000000</td>\n",
       "      <td>11.520000</td>\n",
       "    </tr>\n",
       "    <tr>\n",
       "      <th>25%</th>\n",
       "      <td>1.000020e+08</td>\n",
       "      <td>31.000000</td>\n",
       "      <td>16115.367500</td>\n",
       "    </tr>\n",
       "    <tr>\n",
       "      <th>50%</th>\n",
       "      <td>1.000038e+08</td>\n",
       "      <td>37.000000</td>\n",
       "      <td>33567.330000</td>\n",
       "    </tr>\n",
       "    <tr>\n",
       "      <th>75%</th>\n",
       "      <td>2.000031e+08</td>\n",
       "      <td>45.000000</td>\n",
       "      <td>57533.930000</td>\n",
       "    </tr>\n",
       "    <tr>\n",
       "      <th>max</th>\n",
       "      <td>4.000038e+08</td>\n",
       "      <td>64.000000</td>\n",
       "      <td>183467.700000</td>\n",
       "    </tr>\n",
       "  </tbody>\n",
       "</table>\n",
       "</div>"
      ],
      "text/plain": [
       "         CustomerID          Age        Balance\n",
       "count  4.014000e+03  4014.000000    4014.000000\n",
       "mean   1.696831e+08    38.611111   39766.448274\n",
       "std    8.865374e+07     9.819121   29859.489192\n",
       "min    1.000000e+08    15.000000      11.520000\n",
       "25%    1.000020e+08    31.000000   16115.367500\n",
       "50%    1.000038e+08    37.000000   33567.330000\n",
       "75%    2.000031e+08    45.000000   57533.930000\n",
       "max    4.000038e+08    64.000000  183467.700000"
      ]
     },
     "execution_count": 17,
     "metadata": {},
     "output_type": "execute_result"
    }
   ],
   "source": [
    "bank.describe()"
   ]
  },
  {
   "cell_type": "code",
   "execution_count": 16,
   "id": "080e2f95",
   "metadata": {},
   "outputs": [
    {
     "data": {
      "text/plain": [
       "(4014, 9)"
      ]
     },
     "execution_count": 16,
     "metadata": {},
     "output_type": "execute_result"
    }
   ],
   "source": [
    "bank.shape"
   ]
  },
  {
   "cell_type": "raw",
   "id": "45aaaf24",
   "metadata": {},
   "source": []
  },
  {
   "cell_type": "code",
   "execution_count": 18,
   "id": "23238180",
   "metadata": {},
   "outputs": [
    {
     "name": "stdout",
     "output_type": "stream",
     "text": [
      "<class 'pandas.core.frame.DataFrame'>\n",
      "RangeIndex: 4014 entries, 0 to 4013\n",
      "Data columns (total 9 columns):\n",
      " #   Column             Non-Null Count  Dtype  \n",
      "---  ------             --------------  -----  \n",
      " 0   CustomerID         4014 non-null   int64  \n",
      " 1   Name               4014 non-null   object \n",
      " 2   Surname            4014 non-null   object \n",
      " 3   Gender             4014 non-null   object \n",
      " 4   Age                4014 non-null   int64  \n",
      " 5   Region             4014 non-null   object \n",
      " 6   JobClassification  4014 non-null   object \n",
      " 7   DateJoined         4014 non-null   object \n",
      " 8   Balance            4014 non-null   float64\n",
      "dtypes: float64(1), int64(2), object(6)\n",
      "memory usage: 282.4+ KB\n"
     ]
    }
   ],
   "source": [
    "bank.info()"
   ]
  },
  {
   "cell_type": "code",
   "execution_count": 19,
   "id": "b80cd9b0",
   "metadata": {},
   "outputs": [
    {
     "data": {
      "text/plain": [
       "0         Male\n",
       "1       Female\n",
       "2         Male\n",
       "3         Male\n",
       "4       Female\n",
       "         ...  \n",
       "4009      Male\n",
       "4010      Male\n",
       "4011    Female\n",
       "4012      Male\n",
       "4013      Male\n",
       "Name: Gender, Length: 4014, dtype: category\n",
       "Categories (2, object): ['Female', 'Male']"
      ]
     },
     "execution_count": 19,
     "metadata": {},
     "output_type": "execute_result"
    }
   ],
   "source": [
    "bank['Gender'].astype('category')"
   ]
  },
  {
   "cell_type": "code",
   "execution_count": 20,
   "id": "a60dd8a6",
   "metadata": {},
   "outputs": [],
   "source": [
    "bank['Gender']=bank['Gender'].astype('category')"
   ]
  },
  {
   "cell_type": "code",
   "execution_count": 21,
   "id": "8f861dab",
   "metadata": {},
   "outputs": [],
   "source": [
    "bank[' Age ']=bank['Gender'].astype('category')"
   ]
  },
  {
   "cell_type": "code",
   "execution_count": 22,
   "id": "ff2280f9",
   "metadata": {},
   "outputs": [
    {
     "data": {
      "text/html": [
       "<div>\n",
       "<style scoped>\n",
       "    .dataframe tbody tr th:only-of-type {\n",
       "        vertical-align: middle;\n",
       "    }\n",
       "\n",
       "    .dataframe tbody tr th {\n",
       "        vertical-align: top;\n",
       "    }\n",
       "\n",
       "    .dataframe thead th {\n",
       "        text-align: right;\n",
       "    }\n",
       "</style>\n",
       "<table border=\"1\" class=\"dataframe\">\n",
       "  <thead>\n",
       "    <tr style=\"text-align: right;\">\n",
       "      <th></th>\n",
       "      <th>Gender</th>\n",
       "      <th>Age</th>\n",
       "    </tr>\n",
       "  </thead>\n",
       "  <tbody>\n",
       "    <tr>\n",
       "      <th>count</th>\n",
       "      <td>4014</td>\n",
       "      <td>4014</td>\n",
       "    </tr>\n",
       "    <tr>\n",
       "      <th>unique</th>\n",
       "      <td>2</td>\n",
       "      <td>2</td>\n",
       "    </tr>\n",
       "    <tr>\n",
       "      <th>top</th>\n",
       "      <td>Male</td>\n",
       "      <td>Male</td>\n",
       "    </tr>\n",
       "    <tr>\n",
       "      <th>freq</th>\n",
       "      <td>2165</td>\n",
       "      <td>2165</td>\n",
       "    </tr>\n",
       "  </tbody>\n",
       "</table>\n",
       "</div>"
      ],
      "text/plain": [
       "       Gender  Age \n",
       "count    4014  4014\n",
       "unique      2     2\n",
       "top      Male  Male\n",
       "freq     2165  2165"
      ]
     },
     "execution_count": 22,
     "metadata": {},
     "output_type": "execute_result"
    }
   ],
   "source": [
    "bank.describe(include='category')"
   ]
  },
  {
   "cell_type": "code",
   "execution_count": 27,
   "id": "6626972e",
   "metadata": {},
   "outputs": [],
   "source": [
    "for col in ['Gender','Age']:\n",
    "    bankxl[col]=bankxl[col].astype('category')"
   ]
  },
  {
   "cell_type": "code",
   "execution_count": 28,
   "id": "9d597c2d",
   "metadata": {},
   "outputs": [
    {
     "name": "stdout",
     "output_type": "stream",
     "text": [
      "<class 'pandas.core.frame.DataFrame'>\n",
      "RangeIndex: 4014 entries, 0 to 4013\n",
      "Data columns (total 10 columns):\n",
      " #   Column             Non-Null Count  Dtype   \n",
      "---  ------             --------------  -----   \n",
      " 0   CustomerID         4014 non-null   int64   \n",
      " 1   Name               4014 non-null   object  \n",
      " 2   Surname            4014 non-null   object  \n",
      " 3   Gender             4014 non-null   category\n",
      " 4   Age                4014 non-null   int64   \n",
      " 5   Region             4014 non-null   object  \n",
      " 6   JobClassification  4014 non-null   object  \n",
      " 7   DateJoined         4014 non-null   object  \n",
      " 8   Balance            4014 non-null   float64 \n",
      " 9    Age               4014 non-null   category\n",
      "dtypes: category(2), float64(1), int64(2), object(5)\n",
      "memory usage: 259.1+ KB\n"
     ]
    }
   ],
   "source": [
    "bank.info()"
   ]
  },
  {
   "cell_type": "code",
   "execution_count": 31,
   "id": "c9641954",
   "metadata": {},
   "outputs": [
    {
     "data": {
      "text/plain": [
       "39766.44827354263"
      ]
     },
     "execution_count": 31,
     "metadata": {},
     "output_type": "execute_result"
    }
   ],
   "source": [
    "bank['Balance'].mean()"
   ]
  },
  {
   "cell_type": "code",
   "execution_count": 33,
   "id": "e3c3d140",
   "metadata": {},
   "outputs": [],
   "source": [
    "sal=bank['Balance']"
   ]
  },
  {
   "cell_type": "code",
   "execution_count": 35,
   "id": "023482e0",
   "metadata": {},
   "outputs": [
    {
     "data": {
      "text/plain": [
       "(11.52, 183467.7, 39766.44827354263, 33567.33)"
      ]
     },
     "execution_count": 35,
     "metadata": {},
     "output_type": "execute_result"
    }
   ],
   "source": [
    "sal.min(),sal.max(),sal.mean(),sal.median()"
   ]
  },
  {
   "cell_type": "code",
   "execution_count": 36,
   "id": "385b95ef",
   "metadata": {},
   "outputs": [
    {
     "data": {
      "text/html": [
       "<div>\n",
       "<style scoped>\n",
       "    .dataframe tbody tr th:only-of-type {\n",
       "        vertical-align: middle;\n",
       "    }\n",
       "\n",
       "    .dataframe tbody tr th {\n",
       "        vertical-align: top;\n",
       "    }\n",
       "\n",
       "    .dataframe thead th {\n",
       "        text-align: right;\n",
       "    }\n",
       "</style>\n",
       "<table border=\"1\" class=\"dataframe\">\n",
       "  <thead>\n",
       "    <tr style=\"text-align: right;\">\n",
       "      <th></th>\n",
       "      <th>CustomerID</th>\n",
       "      <th>Age</th>\n",
       "      <th>Balance</th>\n",
       "    </tr>\n",
       "  </thead>\n",
       "  <tbody>\n",
       "    <tr>\n",
       "      <th>count</th>\n",
       "      <td>4.014000e+03</td>\n",
       "      <td>4014.000000</td>\n",
       "      <td>4014.000000</td>\n",
       "    </tr>\n",
       "    <tr>\n",
       "      <th>mean</th>\n",
       "      <td>1.696831e+08</td>\n",
       "      <td>38.611111</td>\n",
       "      <td>39766.448274</td>\n",
       "    </tr>\n",
       "    <tr>\n",
       "      <th>std</th>\n",
       "      <td>8.865374e+07</td>\n",
       "      <td>9.819121</td>\n",
       "      <td>29859.489192</td>\n",
       "    </tr>\n",
       "    <tr>\n",
       "      <th>min</th>\n",
       "      <td>1.000000e+08</td>\n",
       "      <td>15.000000</td>\n",
       "      <td>11.520000</td>\n",
       "    </tr>\n",
       "    <tr>\n",
       "      <th>25%</th>\n",
       "      <td>1.000020e+08</td>\n",
       "      <td>31.000000</td>\n",
       "      <td>16115.367500</td>\n",
       "    </tr>\n",
       "    <tr>\n",
       "      <th>50%</th>\n",
       "      <td>1.000038e+08</td>\n",
       "      <td>37.000000</td>\n",
       "      <td>33567.330000</td>\n",
       "    </tr>\n",
       "    <tr>\n",
       "      <th>75%</th>\n",
       "      <td>2.000031e+08</td>\n",
       "      <td>45.000000</td>\n",
       "      <td>57533.930000</td>\n",
       "    </tr>\n",
       "    <tr>\n",
       "      <th>max</th>\n",
       "      <td>4.000038e+08</td>\n",
       "      <td>64.000000</td>\n",
       "      <td>183467.700000</td>\n",
       "    </tr>\n",
       "  </tbody>\n",
       "</table>\n",
       "</div>"
      ],
      "text/plain": [
       "         CustomerID          Age        Balance\n",
       "count  4.014000e+03  4014.000000    4014.000000\n",
       "mean   1.696831e+08    38.611111   39766.448274\n",
       "std    8.865374e+07     9.819121   29859.489192\n",
       "min    1.000000e+08    15.000000      11.520000\n",
       "25%    1.000020e+08    31.000000   16115.367500\n",
       "50%    1.000038e+08    37.000000   33567.330000\n",
       "75%    2.000031e+08    45.000000   57533.930000\n",
       "max    4.000038e+08    64.000000  183467.700000"
      ]
     },
     "execution_count": 36,
     "metadata": {},
     "output_type": "execute_result"
    }
   ],
   "source": [
    "bank.describe()"
   ]
  },
  {
   "cell_type": "code",
   "execution_count": 38,
   "id": "e0057bcd",
   "metadata": {},
   "outputs": [
    {
     "data": {
      "text/plain": [
       "<AxesSubplot:xlabel='Balance', ylabel='Count'>"
      ]
     },
     "execution_count": 38,
     "metadata": {},
     "output_type": "execute_result"
    },
    {
     "data": {
      "image/png": "[encoded data removed]",
      "text/plain": [
       "<Figure size 432x288 with 1 Axes>"
      ]
     },
     "metadata": {
      "needs_background": "light"
     },
     "output_type": "display_data"
    }
   ],
   "source": [
    "import seaborn as sns\n",
    "sns.histplot(x=bank['Balance'])"
   ]
  },
  {
   "cell_type": "code",
   "execution_count": 39,
   "id": "cf3d5304",
   "metadata": {},
   "outputs": [
    {
     "data": {
      "text/plain": [
       "<AxesSubplot:xlabel='Balance', ylabel='Count'>"
      ]
     },
     "execution_count": 39,
     "metadata": {},
     "output_type": "execute_result"
    },
    {
     "data": {
      "image/png": "[encoded data removed]",
      "text/plain": [
       "<Figure size 432x288 with 1 Axes>"
      ]
     },
     "metadata": {
      "needs_background": "light"
     },
     "output_type": "display_data"
    }
   ],
   "source": [
    "sns.histplot(x=bank['Balance'],bins=10,kde=True)"
   ]
  },
  {
   "cell_type": "code",
   "execution_count": 42,
   "id": "1ef605f0",
   "metadata": {},
   "outputs": [
    {
     "data": {
      "text/plain": [
       "<AxesSubplot:xlabel='Balance', ylabel='Probability'>"
      ]
     },
     "execution_count": 42,
     "metadata": {},
     "output_type": "execute_result"
    },
    {
     "data": {
      "image/png": "[encoded data removed]",
      "text/plain": [
       "<Figure size 432x288 with 1 Axes>"
      ]
     },
     "metadata": {
      "needs_background": "light"
     },
     "output_type": "display_data"
    }
   ],
   "source": [
    "sns.histplot(x=bank['Balance'],bins=10,kde=False,stat='probability',color='red')"
   ]
  },
  {
   "cell_type": "code",
   "execution_count": 45,
   "id": "cf18f594",
   "metadata": {},
   "outputs": [
    {
     "data": {
      "text/plain": [
       "0       False\n",
       "1        True\n",
       "2       False\n",
       "3       False\n",
       "4        True\n",
       "        ...  \n",
       "4009    False\n",
       "4010    False\n",
       "4011     True\n",
       "4012    False\n",
       "4013    False\n",
       "Name: Gender, Length: 4014, dtype: bool"
      ]
     },
     "execution_count": 45,
     "metadata": {},
     "output_type": "execute_result"
    }
   ],
   "source": [
    "bank['Gender']=='Female'"
   ]
  },
  {
   "cell_type": "code",
   "execution_count": 46,
   "id": "e4d0e589",
   "metadata": {},
   "outputs": [
    {
     "data": {
      "text/html": [
       "<div>\n",
       "<style scoped>\n",
       "    .dataframe tbody tr th:only-of-type {\n",
       "        vertical-align: middle;\n",
       "    }\n",
       "\n",
       "    .dataframe tbody tr th {\n",
       "        vertical-align: top;\n",
       "    }\n",
       "\n",
       "    .dataframe thead th {\n",
       "        text-align: right;\n",
       "    }\n",
       "</style>\n",
       "<table border=\"1\" class=\"dataframe\">\n",
       "  <thead>\n",
       "    <tr style=\"text-align: right;\">\n",
       "      <th></th>\n",
       "      <th>CustomerID</th>\n",
       "      <th>Name</th>\n",
       "      <th>Surname</th>\n",
       "      <th>Gender</th>\n",
       "      <th>Age</th>\n",
       "      <th>Region</th>\n",
       "      <th>JobClassification</th>\n",
       "      <th>DateJoined</th>\n",
       "      <th>Balance</th>\n",
       "      <th>Age</th>\n",
       "    </tr>\n",
       "  </thead>\n",
       "  <tbody>\n",
       "    <tr>\n",
       "      <th>1</th>\n",
       "      <td>400000002</td>\n",
       "      <td>Jasmine</td>\n",
       "      <td>Miller</td>\n",
       "      <td>Female</td>\n",
       "      <td>34</td>\n",
       "      <td>Northern Ireland</td>\n",
       "      <td>Blue Collar</td>\n",
       "      <td>06.Jan.15</td>\n",
       "      <td>36919.73</td>\n",
       "      <td>Female</td>\n",
       "    </tr>\n",
       "    <tr>\n",
       "      <th>4</th>\n",
       "      <td>100000005</td>\n",
       "      <td>Deirdre</td>\n",
       "      <td>Pullman</td>\n",
       "      <td>Female</td>\n",
       "      <td>38</td>\n",
       "      <td>England</td>\n",
       "      <td>Blue Collar</td>\n",
       "      <td>09.Jan.15</td>\n",
       "      <td>35639.79</td>\n",
       "      <td>Female</td>\n",
       "    </tr>\n",
       "    <tr>\n",
       "      <th>5</th>\n",
       "      <td>300000006</td>\n",
       "      <td>Ava</td>\n",
       "      <td>Coleman</td>\n",
       "      <td>Female</td>\n",
       "      <td>30</td>\n",
       "      <td>Wales</td>\n",
       "      <td>Blue Collar</td>\n",
       "      <td>09.Jan.15</td>\n",
       "      <td>122443.77</td>\n",
       "      <td>Female</td>\n",
       "    </tr>\n",
       "    <tr>\n",
       "      <th>6</th>\n",
       "      <td>100000007</td>\n",
       "      <td>Dorothy</td>\n",
       "      <td>Thomson</td>\n",
       "      <td>Female</td>\n",
       "      <td>34</td>\n",
       "      <td>England</td>\n",
       "      <td>Blue Collar</td>\n",
       "      <td>11.Jan.15</td>\n",
       "      <td>42879.84</td>\n",
       "      <td>Female</td>\n",
       "    </tr>\n",
       "    <tr>\n",
       "      <th>7</th>\n",
       "      <td>200000008</td>\n",
       "      <td>Lisa</td>\n",
       "      <td>Knox</td>\n",
       "      <td>Female</td>\n",
       "      <td>48</td>\n",
       "      <td>Scotland</td>\n",
       "      <td>Other</td>\n",
       "      <td>11.Jan.15</td>\n",
       "      <td>36680.17</td>\n",
       "      <td>Female</td>\n",
       "    </tr>\n",
       "    <tr>\n",
       "      <th>...</th>\n",
       "      <td>...</td>\n",
       "      <td>...</td>\n",
       "      <td>...</td>\n",
       "      <td>...</td>\n",
       "      <td>...</td>\n",
       "      <td>...</td>\n",
       "      <td>...</td>\n",
       "      <td>...</td>\n",
       "      <td>...</td>\n",
       "      <td>...</td>\n",
       "    </tr>\n",
       "    <tr>\n",
       "      <th>4003</th>\n",
       "      <td>100004004</td>\n",
       "      <td>Jane</td>\n",
       "      <td>Hemmings</td>\n",
       "      <td>Female</td>\n",
       "      <td>28</td>\n",
       "      <td>England</td>\n",
       "      <td>Blue Collar</td>\n",
       "      <td>30.Dec.15</td>\n",
       "      <td>68518.55</td>\n",
       "      <td>Female</td>\n",
       "    </tr>\n",
       "    <tr>\n",
       "      <th>4005</th>\n",
       "      <td>100004006</td>\n",
       "      <td>Kimberly</td>\n",
       "      <td>Gray</td>\n",
       "      <td>Female</td>\n",
       "      <td>44</td>\n",
       "      <td>England</td>\n",
       "      <td>Other</td>\n",
       "      <td>30.Dec.15</td>\n",
       "      <td>64470.77</td>\n",
       "      <td>Female</td>\n",
       "    </tr>\n",
       "    <tr>\n",
       "      <th>4006</th>\n",
       "      <td>100004007</td>\n",
       "      <td>Rachel</td>\n",
       "      <td>Davies</td>\n",
       "      <td>Female</td>\n",
       "      <td>34</td>\n",
       "      <td>England</td>\n",
       "      <td>Blue Collar</td>\n",
       "      <td>30.Dec.15</td>\n",
       "      <td>4561.22</td>\n",
       "      <td>Female</td>\n",
       "    </tr>\n",
       "    <tr>\n",
       "      <th>4008</th>\n",
       "      <td>200004009</td>\n",
       "      <td>Alison</td>\n",
       "      <td>Quinn</td>\n",
       "      <td>Female</td>\n",
       "      <td>64</td>\n",
       "      <td>Scotland</td>\n",
       "      <td>Other</td>\n",
       "      <td>30.Dec.15</td>\n",
       "      <td>73503.90</td>\n",
       "      <td>Female</td>\n",
       "    </tr>\n",
       "    <tr>\n",
       "      <th>4011</th>\n",
       "      <td>200004012</td>\n",
       "      <td>Hannah</td>\n",
       "      <td>Springer</td>\n",
       "      <td>Female</td>\n",
       "      <td>50</td>\n",
       "      <td>Scotland</td>\n",
       "      <td>Other</td>\n",
       "      <td>30.Dec.15</td>\n",
       "      <td>59477.82</td>\n",
       "      <td>Female</td>\n",
       "    </tr>\n",
       "  </tbody>\n",
       "</table>\n",
       "<p>1849 rows × 10 columns</p>\n",
       "</div>"
      ],
      "text/plain": [
       "      CustomerID      Name   Surname  Gender  Age            Region  \\\n",
       "1      400000002   Jasmine    Miller  Female   34  Northern Ireland   \n",
       "4      100000005   Deirdre   Pullman  Female   38           England   \n",
       "5      300000006       Ava   Coleman  Female   30             Wales   \n",
       "6      100000007   Dorothy   Thomson  Female   34           England   \n",
       "7      200000008      Lisa      Knox  Female   48          Scotland   \n",
       "...          ...       ...       ...     ...  ...               ...   \n",
       "4003   100004004      Jane  Hemmings  Female   28           England   \n",
       "4005   100004006  Kimberly      Gray  Female   44           England   \n",
       "4006   100004007    Rachel    Davies  Female   34           England   \n",
       "4008   200004009    Alison     Quinn  Female   64          Scotland   \n",
       "4011   200004012    Hannah  Springer  Female   50          Scotland   \n",
       "\n",
       "     JobClassification DateJoined    Balance    Age   \n",
       "1          Blue Collar  06.Jan.15   36919.73  Female  \n",
       "4          Blue Collar  09.Jan.15   35639.79  Female  \n",
       "5          Blue Collar  09.Jan.15  122443.77  Female  \n",
       "6          Blue Collar  11.Jan.15   42879.84  Female  \n",
       "7                Other  11.Jan.15   36680.17  Female  \n",
       "...                ...        ...        ...     ...  \n",
       "4003       Blue Collar  30.Dec.15   68518.55  Female  \n",
       "4005             Other  30.Dec.15   64470.77  Female  \n",
       "4006       Blue Collar  30.Dec.15    4561.22  Female  \n",
       "4008             Other  30.Dec.15   73503.90  Female  \n",
       "4011             Other  30.Dec.15   59477.82  Female  \n",
       "\n",
       "[1849 rows x 10 columns]"
      ]
     },
     "execution_count": 46,
     "metadata": {},
     "output_type": "execute_result"
    }
   ],
   "source": [
    "bank[bank['Gender']==\"Female\"]"
   ]
  },
  {
   "cell_type": "code",
   "execution_count": 47,
   "id": "6cf28b29",
   "metadata": {},
   "outputs": [],
   "source": [
    "FemaleEmployees=bank[bank['Gender']==\"Female\"]"
   ]
  },
  {
   "cell_type": "code",
   "execution_count": 49,
   "id": "5849fb90",
   "metadata": {},
   "outputs": [
    {
     "data": {
      "text/plain": [
       "pandas.core.frame.DataFrame"
      ]
     },
     "execution_count": 49,
     "metadata": {},
     "output_type": "execute_result"
    }
   ],
   "source": [
    "type(FemaleEmployees)"
   ]
  },
  {
   "cell_type": "markdown",
   "id": "3fc80129",
   "metadata": {},
   "source": [
    "FemaleEmployees['Balance'].mean()"
   ]
  },
  {
   "cell_type": "markdown",
   "id": "2eeee578",
   "metadata": {},
   "source": [
    "FemaleEmployees['Balance'].mean()"
   ]
  },
  {
   "cell_type": "code",
   "execution_count": 50,
   "id": "c875a4e1",
   "metadata": {},
   "outputs": [
    {
     "data": {
      "text/plain": [
       "39471.89511627908"
      ]
     },
     "execution_count": 50,
     "metadata": {},
     "output_type": "execute_result"
    }
   ],
   "source": [
    "FemaleEmployees['Balance'].mean()"
   ]
  },
  {
   "cell_type": "code",
   "execution_count": 51,
   "id": "741ee058",
   "metadata": {},
   "outputs": [
    {
     "data": {
      "text/plain": [
       "39471.9"
      ]
     },
     "execution_count": 51,
     "metadata": {},
     "output_type": "execute_result"
    }
   ],
   "source": [
    "round(FemaleEmployees['Balance'].mean(),2)"
   ]
  },
  {
   "cell_type": "code",
   "execution_count": 52,
   "id": "9129db4d",
   "metadata": {},
   "outputs": [
    {
     "data": {
      "text/plain": [
       "0       False\n",
       "1       False\n",
       "2       False\n",
       "3       False\n",
       "4       False\n",
       "        ...  \n",
       "4009    False\n",
       "4010    False\n",
       "4011    False\n",
       "4012    False\n",
       "4013    False\n",
       "Length: 4014, dtype: bool"
      ]
     },
     "execution_count": 52,
     "metadata": {},
     "output_type": "execute_result"
    }
   ],
   "source": [
    "(bank['Gender']==\"Female\")&(bank['Age']==1)"
   ]
  },
  {
   "cell_type": "code",
   "execution_count": 57,
   "id": "df48bd59",
   "metadata": {},
   "outputs": [
    {
     "data": {
      "text/plain": [
       "(0, 10)"
      ]
     },
     "execution_count": 57,
     "metadata": {},
     "output_type": "execute_result"
    }
   ],
   "source": [
    "bank[(bank['Gender']==\"Female\")&(bank['Age']==1)].shape"
   ]
  },
  {
   "cell_type": "code",
   "execution_count": 60,
   "id": "24d1f349",
   "metadata": {},
   "outputs": [
    {
     "data": {
      "text/html": [
       "<div>\n",
       "<style scoped>\n",
       "    .dataframe tbody tr th:only-of-type {\n",
       "        vertical-align: middle;\n",
       "    }\n",
       "\n",
       "    .dataframe tbody tr th {\n",
       "        vertical-align: top;\n",
       "    }\n",
       "\n",
       "    .dataframe thead th {\n",
       "        text-align: right;\n",
       "    }\n",
       "</style>\n",
       "<table border=\"1\" class=\"dataframe\">\n",
       "  <thead>\n",
       "    <tr style=\"text-align: right;\">\n",
       "      <th></th>\n",
       "      <th>CustomerID</th>\n",
       "      <th>Name</th>\n",
       "      <th>Surname</th>\n",
       "      <th>Gender</th>\n",
       "      <th>Age</th>\n",
       "      <th>Region</th>\n",
       "      <th>JobClassification</th>\n",
       "      <th>DateJoined</th>\n",
       "      <th>Balance</th>\n",
       "      <th>Age</th>\n",
       "    </tr>\n",
       "  </thead>\n",
       "  <tbody>\n",
       "    <tr>\n",
       "      <th>2</th>\n",
       "      <td>100000003</td>\n",
       "      <td>Liam</td>\n",
       "      <td>Brown</td>\n",
       "      <td>Male</td>\n",
       "      <td>46</td>\n",
       "      <td>England</td>\n",
       "      <td>White Collar</td>\n",
       "      <td>07.Jan.15</td>\n",
       "      <td>101536.83</td>\n",
       "      <td>Male</td>\n",
       "    </tr>\n",
       "    <tr>\n",
       "      <th>7</th>\n",
       "      <td>200000008</td>\n",
       "      <td>Lisa</td>\n",
       "      <td>Knox</td>\n",
       "      <td>Female</td>\n",
       "      <td>48</td>\n",
       "      <td>Scotland</td>\n",
       "      <td>Other</td>\n",
       "      <td>11.Jan.15</td>\n",
       "      <td>36680.17</td>\n",
       "      <td>Female</td>\n",
       "    </tr>\n",
       "    <tr>\n",
       "      <th>13</th>\n",
       "      <td>200000014</td>\n",
       "      <td>Thomas</td>\n",
       "      <td>Lawrence</td>\n",
       "      <td>Male</td>\n",
       "      <td>46</td>\n",
       "      <td>Scotland</td>\n",
       "      <td>Other</td>\n",
       "      <td>12.Jan.15</td>\n",
       "      <td>48791.46</td>\n",
       "      <td>Male</td>\n",
       "    </tr>\n",
       "    <tr>\n",
       "      <th>19</th>\n",
       "      <td>100000020</td>\n",
       "      <td>Audrey</td>\n",
       "      <td>Jones</td>\n",
       "      <td>Female</td>\n",
       "      <td>46</td>\n",
       "      <td>England</td>\n",
       "      <td>Blue Collar</td>\n",
       "      <td>15.Jan.15</td>\n",
       "      <td>11462.64</td>\n",
       "      <td>Female</td>\n",
       "    </tr>\n",
       "    <tr>\n",
       "      <th>21</th>\n",
       "      <td>200000022</td>\n",
       "      <td>Jason</td>\n",
       "      <td>Butler</td>\n",
       "      <td>Male</td>\n",
       "      <td>58</td>\n",
       "      <td>Scotland</td>\n",
       "      <td>Blue Collar</td>\n",
       "      <td>18.Jan.15</td>\n",
       "      <td>21252.97</td>\n",
       "      <td>Male</td>\n",
       "    </tr>\n",
       "    <tr>\n",
       "      <th>...</th>\n",
       "      <td>...</td>\n",
       "      <td>...</td>\n",
       "      <td>...</td>\n",
       "      <td>...</td>\n",
       "      <td>...</td>\n",
       "      <td>...</td>\n",
       "      <td>...</td>\n",
       "      <td>...</td>\n",
       "      <td>...</td>\n",
       "      <td>...</td>\n",
       "    </tr>\n",
       "    <tr>\n",
       "      <th>4008</th>\n",
       "      <td>200004009</td>\n",
       "      <td>Alison</td>\n",
       "      <td>Quinn</td>\n",
       "      <td>Female</td>\n",
       "      <td>64</td>\n",
       "      <td>Scotland</td>\n",
       "      <td>Other</td>\n",
       "      <td>30.Dec.15</td>\n",
       "      <td>73503.90</td>\n",
       "      <td>Female</td>\n",
       "    </tr>\n",
       "    <tr>\n",
       "      <th>4009</th>\n",
       "      <td>200004010</td>\n",
       "      <td>Sam</td>\n",
       "      <td>Lewis</td>\n",
       "      <td>Male</td>\n",
       "      <td>64</td>\n",
       "      <td>Scotland</td>\n",
       "      <td>Other</td>\n",
       "      <td>30.Dec.15</td>\n",
       "      <td>19711.66</td>\n",
       "      <td>Male</td>\n",
       "    </tr>\n",
       "    <tr>\n",
       "      <th>4010</th>\n",
       "      <td>200004011</td>\n",
       "      <td>Keith</td>\n",
       "      <td>Hughes</td>\n",
       "      <td>Male</td>\n",
       "      <td>52</td>\n",
       "      <td>Scotland</td>\n",
       "      <td>Blue Collar</td>\n",
       "      <td>30.Dec.15</td>\n",
       "      <td>56069.72</td>\n",
       "      <td>Male</td>\n",
       "    </tr>\n",
       "    <tr>\n",
       "      <th>4011</th>\n",
       "      <td>200004012</td>\n",
       "      <td>Hannah</td>\n",
       "      <td>Springer</td>\n",
       "      <td>Female</td>\n",
       "      <td>50</td>\n",
       "      <td>Scotland</td>\n",
       "      <td>Other</td>\n",
       "      <td>30.Dec.15</td>\n",
       "      <td>59477.82</td>\n",
       "      <td>Female</td>\n",
       "    </tr>\n",
       "    <tr>\n",
       "      <th>4012</th>\n",
       "      <td>200004013</td>\n",
       "      <td>Christian</td>\n",
       "      <td>Reid</td>\n",
       "      <td>Male</td>\n",
       "      <td>51</td>\n",
       "      <td>Scotland</td>\n",
       "      <td>Blue Collar</td>\n",
       "      <td>30.Dec.15</td>\n",
       "      <td>239.45</td>\n",
       "      <td>Male</td>\n",
       "    </tr>\n",
       "  </tbody>\n",
       "</table>\n",
       "<p>1187 rows × 10 columns</p>\n",
       "</div>"
      ],
      "text/plain": [
       "      CustomerID       Name   Surname  Gender  Age    Region  \\\n",
       "2      100000003       Liam     Brown    Male   46   England   \n",
       "7      200000008       Lisa      Knox  Female   48  Scotland   \n",
       "13     200000014     Thomas  Lawrence    Male   46  Scotland   \n",
       "19     100000020     Audrey     Jones  Female   46   England   \n",
       "21     200000022      Jason    Butler    Male   58  Scotland   \n",
       "...          ...        ...       ...     ...  ...       ...   \n",
       "4008   200004009     Alison     Quinn  Female   64  Scotland   \n",
       "4009   200004010        Sam     Lewis    Male   64  Scotland   \n",
       "4010   200004011      Keith    Hughes    Male   52  Scotland   \n",
       "4011   200004012     Hannah  Springer  Female   50  Scotland   \n",
       "4012   200004013  Christian      Reid    Male   51  Scotland   \n",
       "\n",
       "     JobClassification DateJoined    Balance    Age   \n",
       "2         White Collar  07.Jan.15  101536.83    Male  \n",
       "7                Other  11.Jan.15   36680.17  Female  \n",
       "13               Other  12.Jan.15   48791.46    Male  \n",
       "19         Blue Collar  15.Jan.15   11462.64  Female  \n",
       "21         Blue Collar  18.Jan.15   21252.97    Male  \n",
       "...                ...        ...        ...     ...  \n",
       "4008             Other  30.Dec.15   73503.90  Female  \n",
       "4009             Other  30.Dec.15   19711.66    Male  \n",
       "4010       Blue Collar  30.Dec.15   56069.72    Male  \n",
       "4011             Other  30.Dec.15   59477.82  Female  \n",
       "4012       Blue Collar  30.Dec.15     239.45    Male  \n",
       "\n",
       "[1187 rows x 10 columns]"
      ]
     },
     "execution_count": 60,
     "metadata": {},
     "output_type": "execute_result"
    }
   ],
   "source": [
    "bank[bank['Age']>=44]"
   ]
  },
  {
   "cell_type": "code",
   "execution_count": 61,
   "id": "dc72ba33",
   "metadata": {},
   "outputs": [],
   "source": [
    "mgmt=[10,20,30]"
   ]
  },
  {
   "cell_type": "code",
   "execution_count": 63,
   "id": "b134f19d",
   "metadata": {},
   "outputs": [
    {
     "data": {
      "text/html": [
       "<div>\n",
       "<style scoped>\n",
       "    .dataframe tbody tr th:only-of-type {\n",
       "        vertical-align: middle;\n",
       "    }\n",
       "\n",
       "    .dataframe tbody tr th {\n",
       "        vertical-align: top;\n",
       "    }\n",
       "\n",
       "    .dataframe thead th {\n",
       "        text-align: right;\n",
       "    }\n",
       "</style>\n",
       "<table border=\"1\" class=\"dataframe\">\n",
       "  <thead>\n",
       "    <tr style=\"text-align: right;\">\n",
       "      <th></th>\n",
       "      <th>CustomerID</th>\n",
       "      <th>Name</th>\n",
       "      <th>Surname</th>\n",
       "      <th>Gender</th>\n",
       "      <th>Age</th>\n",
       "      <th>Region</th>\n",
       "      <th>JobClassification</th>\n",
       "      <th>DateJoined</th>\n",
       "      <th>Balance</th>\n",
       "      <th>Age</th>\n",
       "    </tr>\n",
       "  </thead>\n",
       "  <tbody>\n",
       "    <tr>\n",
       "      <th>5</th>\n",
       "      <td>300000006</td>\n",
       "      <td>Ava</td>\n",
       "      <td>Coleman</td>\n",
       "      <td>Female</td>\n",
       "      <td>30</td>\n",
       "      <td>Wales</td>\n",
       "      <td>Blue Collar</td>\n",
       "      <td>09.Jan.15</td>\n",
       "      <td>122443.77</td>\n",
       "      <td>Female</td>\n",
       "    </tr>\n",
       "    <tr>\n",
       "      <th>31</th>\n",
       "      <td>300000032</td>\n",
       "      <td>Warren</td>\n",
       "      <td>Edmunds</td>\n",
       "      <td>Male</td>\n",
       "      <td>30</td>\n",
       "      <td>Wales</td>\n",
       "      <td>White Collar</td>\n",
       "      <td>28.Jan.15</td>\n",
       "      <td>14094.01</td>\n",
       "      <td>Male</td>\n",
       "    </tr>\n",
       "    <tr>\n",
       "      <th>74</th>\n",
       "      <td>400000075</td>\n",
       "      <td>Olivia</td>\n",
       "      <td>Dowd</td>\n",
       "      <td>Female</td>\n",
       "      <td>30</td>\n",
       "      <td>Northern Ireland</td>\n",
       "      <td>White Collar</td>\n",
       "      <td>12.Feb.15</td>\n",
       "      <td>21.03</td>\n",
       "      <td>Female</td>\n",
       "    </tr>\n",
       "    <tr>\n",
       "      <th>81</th>\n",
       "      <td>100000082</td>\n",
       "      <td>Neil</td>\n",
       "      <td>Robertson</td>\n",
       "      <td>Male</td>\n",
       "      <td>20</td>\n",
       "      <td>England</td>\n",
       "      <td>White Collar</td>\n",
       "      <td>16.Mar.15</td>\n",
       "      <td>11624.36</td>\n",
       "      <td>Male</td>\n",
       "    </tr>\n",
       "    <tr>\n",
       "      <th>94</th>\n",
       "      <td>100000095</td>\n",
       "      <td>Rebecca</td>\n",
       "      <td>Knox</td>\n",
       "      <td>Female</td>\n",
       "      <td>30</td>\n",
       "      <td>England</td>\n",
       "      <td>White Collar</td>\n",
       "      <td>16.Mar.15</td>\n",
       "      <td>55046.35</td>\n",
       "      <td>Female</td>\n",
       "    </tr>\n",
       "    <tr>\n",
       "      <th>...</th>\n",
       "      <td>...</td>\n",
       "      <td>...</td>\n",
       "      <td>...</td>\n",
       "      <td>...</td>\n",
       "      <td>...</td>\n",
       "      <td>...</td>\n",
       "      <td>...</td>\n",
       "      <td>...</td>\n",
       "      <td>...</td>\n",
       "      <td>...</td>\n",
       "    </tr>\n",
       "    <tr>\n",
       "      <th>3950</th>\n",
       "      <td>100003951</td>\n",
       "      <td>Dylan</td>\n",
       "      <td>Harris</td>\n",
       "      <td>Male</td>\n",
       "      <td>30</td>\n",
       "      <td>England</td>\n",
       "      <td>Other</td>\n",
       "      <td>26.Dec.15</td>\n",
       "      <td>62353.77</td>\n",
       "      <td>Male</td>\n",
       "    </tr>\n",
       "    <tr>\n",
       "      <th>3956</th>\n",
       "      <td>300003957</td>\n",
       "      <td>Stephen</td>\n",
       "      <td>Hardacre</td>\n",
       "      <td>Male</td>\n",
       "      <td>30</td>\n",
       "      <td>Wales</td>\n",
       "      <td>Blue Collar</td>\n",
       "      <td>26.Dec.15</td>\n",
       "      <td>15071.69</td>\n",
       "      <td>Male</td>\n",
       "    </tr>\n",
       "    <tr>\n",
       "      <th>3987</th>\n",
       "      <td>100003988</td>\n",
       "      <td>Theresa</td>\n",
       "      <td>Forsyth</td>\n",
       "      <td>Female</td>\n",
       "      <td>30</td>\n",
       "      <td>England</td>\n",
       "      <td>White Collar</td>\n",
       "      <td>29.Dec.15</td>\n",
       "      <td>4570.98</td>\n",
       "      <td>Female</td>\n",
       "    </tr>\n",
       "    <tr>\n",
       "      <th>3990</th>\n",
       "      <td>100003991</td>\n",
       "      <td>Sue</td>\n",
       "      <td>Cornish</td>\n",
       "      <td>Female</td>\n",
       "      <td>30</td>\n",
       "      <td>England</td>\n",
       "      <td>White Collar</td>\n",
       "      <td>29.Dec.15</td>\n",
       "      <td>139784.01</td>\n",
       "      <td>Female</td>\n",
       "    </tr>\n",
       "    <tr>\n",
       "      <th>4001</th>\n",
       "      <td>300004002</td>\n",
       "      <td>Austin</td>\n",
       "      <td>Paterson</td>\n",
       "      <td>Male</td>\n",
       "      <td>30</td>\n",
       "      <td>Wales</td>\n",
       "      <td>White Collar</td>\n",
       "      <td>29.Dec.15</td>\n",
       "      <td>8250.75</td>\n",
       "      <td>Male</td>\n",
       "    </tr>\n",
       "  </tbody>\n",
       "</table>\n",
       "<p>145 rows × 10 columns</p>\n",
       "</div>"
      ],
      "text/plain": [
       "      CustomerID     Name    Surname  Gender  Age            Region  \\\n",
       "5      300000006      Ava    Coleman  Female   30             Wales   \n",
       "31     300000032   Warren    Edmunds    Male   30             Wales   \n",
       "74     400000075   Olivia       Dowd  Female   30  Northern Ireland   \n",
       "81     100000082     Neil  Robertson    Male   20           England   \n",
       "94     100000095  Rebecca       Knox  Female   30           England   \n",
       "...          ...      ...        ...     ...  ...               ...   \n",
       "3950   100003951    Dylan     Harris    Male   30           England   \n",
       "3956   300003957  Stephen   Hardacre    Male   30             Wales   \n",
       "3987   100003988  Theresa    Forsyth  Female   30           England   \n",
       "3990   100003991      Sue    Cornish  Female   30           England   \n",
       "4001   300004002   Austin   Paterson    Male   30             Wales   \n",
       "\n",
       "     JobClassification DateJoined    Balance    Age   \n",
       "5          Blue Collar  09.Jan.15  122443.77  Female  \n",
       "31        White Collar  28.Jan.15   14094.01    Male  \n",
       "74        White Collar  12.Feb.15      21.03  Female  \n",
       "81        White Collar  16.Mar.15   11624.36    Male  \n",
       "94        White Collar  16.Mar.15   55046.35  Female  \n",
       "...                ...        ...        ...     ...  \n",
       "3950             Other  26.Dec.15   62353.77    Male  \n",
       "3956       Blue Collar  26.Dec.15   15071.69    Male  \n",
       "3987      White Collar  29.Dec.15    4570.98  Female  \n",
       "3990      White Collar  29.Dec.15  139784.01  Female  \n",
       "4001      White Collar  29.Dec.15    8250.75    Male  \n",
       "\n",
       "[145 rows x 10 columns]"
      ]
     },
     "execution_count": 63,
     "metadata": {},
     "output_type": "execute_result"
    }
   ],
   "source": [
    "bank[bank['Age'].isin(mgmt)]"
   ]
  },
  {
   "cell_type": "code",
   "execution_count": 4,
   "id": "e1456609",
   "metadata": {},
   "outputs": [],
   "source": [
    "# Python3 Program to find\n",
    "# covariance of two set.\n",
    "import math\n",
    " \n",
    "# Function to find mean.\n",
    " \n",
    "def mean(arr, n):\n",
    " \n",
    "    sum = 0\n",
    "    for i in range(0, n):\n",
    "        sum = sum + arr[i]\n",
    " \n",
    "    return sum / n\n",
    " "
   ]
  },
  {
   "cell_type": "code",
   "execution_count": 5,
   "id": "4b911f01",
   "metadata": {},
   "outputs": [
    {
     "name": "stdout",
     "output_type": "stream",
     "text": [
      "-0.05805000000000284\n"
     ]
    }
   ],
   "source": [
    "def covariance(arr1, arr2, n):\n",
    " \n",
    "    sum = 0\n",
    "    mean_arr1 = mean(arr1, n)\n",
    "    mean_arr2 = mean(arr2, n)\n",
    "    for i in range(0, n):\n",
    "        sum = (sum + (arr1[i] - mean_arr1) * (arr2[i] - mean_arr2))\n",
    " \n",
    "    return sum / (n - 1)\n",
    "arr1 = [65.21, 64.75, 65.26, 65.76, 65.96]\n",
    "n = len(arr1)\n",
    "arr2 = [67.25, 66.39, 66.12, 65.70, 66.64]\n",
    "m = len(arr2)\n",
    " \n",
    "if (m == n):\n",
    "    print(covariance(arr1, arr2, m))"
   ]
  },
  {
   "cell_type": "code",
   "execution_count": null,
   "id": "91bdfb16",
   "metadata": {},
   "outputs": [],
   "source": []
  }
 ],
 "metadata": {
  "kernelspec": {
   "display_name": "Python 3 (ipykernel)",
   "language": "python",
   "name": "python3"
  },
  "language_info": {
   "codemirror_mode": {
    "name": "ipython",
    "version": 3
   },
   "file_extension": ".py",
   "mimetype": "text/x-python",
   "name": "python",
   "nbconvert_exporter": "python",
   "pygments_lexer": "ipython3",
   "version": "3.9.7"
  }
 },
 "nbformat": 4,
 "nbformat_minor": 5
}
