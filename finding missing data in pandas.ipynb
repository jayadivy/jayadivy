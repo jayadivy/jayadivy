{
 "cells": [
  {
   "cell_type": "code",
   "execution_count": 2,
   "id": "c847707e",
   "metadata": {},
   "outputs": [
    {
     "name": "stdout",
     "output_type": "stream",
     "text": [
      "[3.  nan 0.4 nan]\n"
     ]
    }
   ],
   "source": [
    "import pandas as pd\n",
    "import numpy as np\n",
    "array=np.array([3,np.nan,0.4,np.nan])\n",
    "print(array)"
   ]
  },
  {
   "cell_type": "code",
   "execution_count": 29,
   "id": "286a4063",
   "metadata": {},
   "outputs": [],
   "source": [
    "import pandas as pd\n",
    "import numpy as np\n",
    "data_string='''Id,Gender,Salary,Country,Company\n",
    "1,male,12000,indian,google\n",
    "2,female,150000,italian,alibaba\n",
    "3,NaN,45000,china,NaN\n",
    "4,male,NaN,indian,NaN\n",
    "5,30000,australia,google'''\n",
    "with open('Salary.csv','w') as out:\n",
    "    out.write(data_string)"
   ]
  },
  {
   "cell_type": "code",
   "execution_count": 35,
   "id": "3f789aba",
   "metadata": {},
   "outputs": [
    {
     "name": "stdout",
     "output_type": "stream",
     "text": [
      "Salary Dataset:\n",
      "    Id  Gender     Salary  Country  Company\n",
      "0   1    male      12000   indian   google\n",
      "1   2  female     150000  italian  alibaba\n",
      "2   3     NaN      45000    china      NaN\n",
      "3   4    male        NaN   indian      NaN\n",
      "4   5   30000  australia   google      NaN\n"
     ]
    }
   ],
   "source": [
    "df=pd.read_csv('Salary.csv')\n",
    "print('Salary Dataset:\\n',df)\n"
   ]
  },
  {
   "cell_type": "code",
   "execution_count": 32,
   "id": "1803fed7",
   "metadata": {},
   "outputs": [
    {
     "name": "stdout",
     "output_type": "stream",
     "text": [
      "Missing data\n",
      "       Id  Gender  Salary  Country  Company\n",
      "0  False   False   False    False    False\n",
      "1  False   False   False    False    False\n",
      "2  False    True   False    False     True\n",
      "3  False   False    True    False     True\n",
      "4  False   False   False    False     True\n"
     ]
    }
   ],
   "source": [
    "print('Missing data\\n',df.isnull())"
   ]
  },
  {
   "cell_type": "code",
   "execution_count": 33,
   "id": "a761a3da",
   "metadata": {},
   "outputs": [
    {
     "name": "stdout",
     "output_type": "stream",
     "text": [
      "Filter based on column:\n",
      "    Id Gender     Salary Country Company\n",
      "2   3    NaN      45000   china     NaN\n",
      "3   4   male        NaN  indian     NaN\n",
      "4   5  30000  australia  google     NaN\n"
     ]
    }
   ],
   "source": [
    "print('Filter based on column:\\n',df[df.isnull().any(axis=1)])"
   ]
  },
  {
   "cell_type": "code",
   "execution_count": 34,
   "id": "c7380269",
   "metadata": {},
   "outputs": [
    {
     "name": "stdout",
     "output_type": "stream",
     "text": [
      "sum up the missing values:\n",
      " Id         0\n",
      "Gender     1\n",
      "Salary     1\n",
      "Country    0\n",
      "Company    3\n",
      "dtype: int64\n"
     ]
    }
   ],
   "source": [
    "print('sum up the missing values:\\n',df.isnull().sum())"
   ]
  },
  {
   "cell_type": "code",
   "execution_count": 36,
   "id": "7ca9e4aa",
   "metadata": {},
   "outputs": [
    {
     "name": "stdout",
     "output_type": "stream",
     "text": [
      "   Id  Gender  Salary  Country  Company\n",
      "0   1    male   12000   indian   google\n",
      "1   2  female  150000  italian  alibaba\n"
     ]
    }
   ],
   "source": [
    "df.dropna(inplace=True)\n",
    "print(df)"
   ]
  },
  {
   "cell_type": "code",
   "execution_count": 38,
   "id": "aae89bad",
   "metadata": {},
   "outputs": [
    {
     "name": "stdout",
     "output_type": "stream",
     "text": [
      "   Id  Gender  Salary  Country  Company\n",
      "0   1    male   12000   indian   google\n",
      "1   2  female  150000  italian  alibaba\n"
     ]
    }
   ],
   "source": [
    "df[\"Salary\"].fillna(20000,inplace=True)\n",
    "print(df)"
   ]
  },
  {
   "cell_type": "code",
   "execution_count": 39,
   "id": "b301333d",
   "metadata": {},
   "outputs": [
    {
     "name": "stdout",
     "output_type": "stream",
     "text": [
      "Non Missing Data\n",
      "      Id  Gender  Salary  Country  Company\n",
      "0  True    True    True     True     True\n",
      "1  True    True    True     True     True\n"
     ]
    }
   ],
   "source": [
    "print('Non Missing Data\\n',df.notnull())"
   ]
  },
  {
   "cell_type": "code",
   "execution_count": 42,
   "id": "4afa389f",
   "metadata": {},
   "outputs": [
    {
     "name": "stdout",
     "output_type": "stream",
     "text": [
      "Drop missing Company Data\n",
      " 0     google\n",
      "1    alibaba\n",
      "Name: Company, dtype: object\n"
     ]
    },
    {
     "data": {
      "text/html": [
       "<div>\n",
       "<style scoped>\n",
       "    .dataframe tbody tr th:only-of-type {\n",
       "        vertical-align: middle;\n",
       "    }\n",
       "\n",
       "    .dataframe tbody tr th {\n",
       "        vertical-align: top;\n",
       "    }\n",
       "\n",
       "    .dataframe thead th {\n",
       "        text-align: right;\n",
       "    }\n",
       "</style>\n",
       "<table border=\"1\" class=\"dataframe\">\n",
       "  <thead>\n",
       "    <tr style=\"text-align: right;\">\n",
       "      <th></th>\n",
       "      <th>Id</th>\n",
       "      <th>Gender</th>\n",
       "      <th>Salary</th>\n",
       "      <th>Country</th>\n",
       "      <th>Company</th>\n",
       "    </tr>\n",
       "  </thead>\n",
       "  <tbody>\n",
       "    <tr>\n",
       "      <th>0</th>\n",
       "      <td>1</td>\n",
       "      <td>male</td>\n",
       "      <td>12000</td>\n",
       "      <td>indian</td>\n",
       "      <td>google</td>\n",
       "    </tr>\n",
       "    <tr>\n",
       "      <th>1</th>\n",
       "      <td>2</td>\n",
       "      <td>female</td>\n",
       "      <td>150000</td>\n",
       "      <td>italian</td>\n",
       "      <td>alibaba</td>\n",
       "    </tr>\n",
       "  </tbody>\n",
       "</table>\n",
       "</div>"
      ],
      "text/plain": [
       "   Id  Gender  Salary  Country  Company\n",
       "0   1    male   12000   indian   google\n",
       "1   2  female  150000  italian  alibaba"
      ]
     },
     "execution_count": 42,
     "metadata": {},
     "output_type": "execute_result"
    }
   ],
   "source": [
    "print('Drop missing Company Data\\n',df.Company.dropna())\n",
    "df.dropna()"
   ]
  },
  {
   "cell_type": "code",
   "execution_count": 44,
   "id": "d0a42bd2",
   "metadata": {},
   "outputs": [
    {
     "name": "stdout",
     "output_type": "stream",
     "text": [
      "   Id  Gender  Salary  Country  Company\n",
      "0   1    male   12000   indian   google\n",
      "1   2  female  150000  italian  alibaba\n"
     ]
    }
   ],
   "source": [
    " df.dropna(axis=1)\n",
    "print(df)"
   ]
  },
  {
   "cell_type": "code",
   "execution_count": 45,
   "id": "f6a6f5e0",
   "metadata": {},
   "outputs": [
    {
     "name": "stdout",
     "output_type": "stream",
     "text": [
      "   Id  Gender  Salary  Country  Company\n",
      "0   1    male   12000   indian   google\n",
      "1   2  female  150000  italian  alibaba\n"
     ]
    }
   ],
   "source": [
    "new_df=df.dropna(axis=0,how='any')\n",
    "print(new_df)"
   ]
  },
  {
   "cell_type": "code",
   "execution_count": 46,
   "id": "22be568a",
   "metadata": {},
   "outputs": [
    {
     "name": "stdout",
     "output_type": "stream",
     "text": [
      "Fill Missing Data\n",
      "    Id  Gender  Salary  Country  Company\n",
      "0   1    male   12000   indian   google\n",
      "1   2  female  150000  italian  alibaba\n"
     ]
    }
   ],
   "source": [
    "print('Fill Missing Data\\n',df.fillna(0))"
   ]
  },
  {
   "cell_type": "code",
   "execution_count": 47,
   "id": "a93c4d23",
   "metadata": {},
   "outputs": [
    {
     "name": "stdout",
     "output_type": "stream",
     "text": [
      "Fill Missing Data\n",
      "    Id  Gender  Salary  Country  Company\n",
      "0   1    male   12000   indian   google\n",
      "1   2  female  150000  italian  alibaba\n"
     ]
    }
   ],
   "source": [
    "print('Fill Missing Data\\n',df.fillna(method='Pad'))"
   ]
  },
  {
   "cell_type": "code",
   "execution_count": 50,
   "id": "0e53f439",
   "metadata": {},
   "outputs": [
    {
     "name": "stdout",
     "output_type": "stream",
     "text": [
      "Fill Missing Data\n",
      "    Id  Gender  Salary  Country  Company\n",
      "0   1    male   12000   indian   google\n",
      "1   2  female  150000  italian  alibaba\n"
     ]
    }
   ],
   "source": [
    "print('Fill Missing Data\\n',df.fillna(method=\"bfill\"))"
   ]
  },
  {
   "cell_type": "code",
   "execution_count": 49,
   "id": "4328471b",
   "metadata": {},
   "outputs": [
    {
     "data": {
      "text/plain": [
       "0    False\n",
       "1    False\n",
       "Name: Gender, dtype: bool"
      ]
     },
     "execution_count": 49,
     "metadata": {},
     "output_type": "execute_result"
    }
   ],
   "source": [
    "gender=pd.isnull(df['Gender'])\n",
    "gender"
   ]
  },
  {
   "cell_type": "code",
   "execution_count": 51,
   "id": "3326759a",
   "metadata": {},
   "outputs": [
    {
     "name": "stdout",
     "output_type": "stream",
     "text": [
      "Fill Missing Data\n",
      " None\n"
     ]
    }
   ],
   "source": [
    "print('Fill Missing Data\\n',df[\"Gender\"].fillna(\"no Gender\",inplace=True))"
   ]
  },
  {
   "cell_type": "code",
   "execution_count": 53,
   "id": "6d8108bc",
   "metadata": {},
   "outputs": [
    {
     "name": "stdout",
     "output_type": "stream",
     "text": [
      "   Id  Gender  Salary  Country    Company\n",
      "0   1    male   12000   indian  Microsoft\n",
      "1   2  female  150000  italian    alibaba\n"
     ]
    }
   ],
   "source": [
    "print(df.replace(to_replace='google',value='Microsoft'))"
   ]
  },
  {
   "cell_type": "code",
   "execution_count": 55,
   "id": "ab34c0ac",
   "metadata": {},
   "outputs": [
    {
     "name": "stdout",
     "output_type": "stream",
     "text": [
      "   Id  Gender  Salary  Country  Company\n",
      "0   1    male   12000   indian   google\n",
      "1   2  female  150000  italian  alibaba\n"
     ]
    }
   ],
   "source": [
    "print(df.interpolate(method='linear',limit_direction='forward'))"
   ]
  },
  {
   "cell_type": "code",
   "execution_count": null,
   "id": "a4d88d8c",
   "metadata": {},
   "outputs": [],
   "source": []
  }
 ],
 "metadata": {
  "kernelspec": {
   "display_name": "Python 3 (ipykernel)",
   "language": "python",
   "name": "python3"
  },
  "language_info": {
   "codemirror_mode": {
    "name": "ipython",
    "version": 3
   },
   "file_extension": ".py",
   "mimetype": "text/x-python",
   "name": "python",
   "nbconvert_exporter": "python",
   "pygments_lexer": "ipython3",
   "version": "3.9.7"
  }
 },
 "nbformat": 4,
 "nbformat_minor": 5
}
